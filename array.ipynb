{
 "cells": [
  {
   "cell_type": "code",
   "execution_count": null,
   "id": "ac75ebad-5ad5-4f80-b964-ae0f3be3e30d",
   "metadata": {},
   "outputs": [],
   "source": [
    "import numpy as np"
   ]
  },
  {
   "cell_type": "code",
   "execution_count": null,
   "id": "e7f47412-3a77-45ad-ae36-6721841386b3",
   "metadata": {},
   "outputs": [],
   "source": [
    "#Matrix 1D\n",
    "mat1D = np.array([1,2,3,4,5,6,7,8,9,10])\n",
    "mat2D = np.array([[1,2,3],[4,5,6],[7,8,9]])"
   ]
  },
  {
   "cell_type": "code",
   "execution_count": 13,
   "id": "2bd26596-7e7d-4c04-932d-c9f23dae733c",
   "metadata": {},
   "outputs": [
    {
     "ename": "NameError",
     "evalue": "name 'mat1D' is not defined",
     "output_type": "error",
     "traceback": [
      "\u001b[1;31m---------------------------------------------------------------------------\u001b[0m",
      "\u001b[1;31mNameError\u001b[0m                                 Traceback (most recent call last)",
      "Cell \u001b[1;32mIn[13], line 1\u001b[0m\n\u001b[1;32m----> 1\u001b[0m \u001b[38;5;28mprint\u001b[39m(mat1D) \u001b[38;5;241m==\u001b[39m \u001b[38;5;124m'\u001b[39m\u001b[38;5;124m1,2,3,4,5,6,7,8,9,10\u001b[39m\u001b[38;5;124m'\u001b[39m\n",
      "\u001b[1;31mNameError\u001b[0m: name 'mat1D' is not defined"
     ]
    }
   ],
   "source": [
    "print(mat1D) == '1,2,3,4,5,6,7,8,9,10'"
   ]
  },
  {
   "cell_type": "code",
   "execution_count": 3,
   "id": "8f88b96c-4d2e-4457-80da-cede0852b1ae",
   "metadata": {},
   "outputs": [
    {
     "ename": "NameError",
     "evalue": "name 'mat1D' is not defined",
     "output_type": "error",
     "traceback": [
      "\u001b[1;31m---------------------------------------------------------------------------\u001b[0m",
      "\u001b[1;31mNameError\u001b[0m                                 Traceback (most recent call last)",
      "Cell \u001b[1;32mIn[3], line 1\u001b[0m\n\u001b[1;32m----> 1\u001b[0m \u001b[38;5;28mprint\u001b[39m(mat1D[\u001b[38;5;241m0\u001b[39m])\n",
      "\u001b[1;31mNameError\u001b[0m: name 'mat1D' is not defined"
     ]
    }
   ],
   "source": [
    "print(mat1D[0])"
   ]
  },
  {
   "cell_type": "code",
   "execution_count": 5,
   "id": "c4fc3962-833b-41ee-88e1-750f44b26626",
   "metadata": {},
   "outputs": [
    {
     "ename": "NameError",
     "evalue": "name 'mat2D' is not defined",
     "output_type": "error",
     "traceback": [
      "\u001b[1;31m---------------------------------------------------------------------------\u001b[0m",
      "\u001b[1;31mNameError\u001b[0m                                 Traceback (most recent call last)",
      "Cell \u001b[1;32mIn[5], line 1\u001b[0m\n\u001b[1;32m----> 1\u001b[0m \u001b[38;5;28mprint\u001b[39m(mat2D)\n",
      "\u001b[1;31mNameError\u001b[0m: name 'mat2D' is not defined"
     ]
    }
   ],
   "source": [
    "print(mat2D)"
   ]
  }
 ],
 "metadata": {
  "kernelspec": {
   "display_name": "Python [conda env:base] *",
   "language": "python",
   "name": "conda-base-py"
  },
  "language_info": {
   "codemirror_mode": {
    "name": "ipython",
    "version": 3
   },
   "file_extension": ".py",
   "mimetype": "text/x-python",
   "name": "python",
   "nbconvert_exporter": "python",
   "pygments_lexer": "ipython3",
   "version": "3.12.7"
  }
 },
 "nbformat": 4,
 "nbformat_minor": 5
}
