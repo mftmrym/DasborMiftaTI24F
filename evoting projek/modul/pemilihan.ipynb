{
 "cells": [
  {
   "cell_type": "code",
   "execution_count": 37,
   "id": "ebc6970b-83b0-4ce5-83ee-f3e85bb72764",
   "metadata": {},
   "outputs": [
    {
     "ename": "SyntaxError",
     "evalue": "invalid syntax (2123347380.py, line 7)",
     "output_type": "error",
     "traceback": [
      "\u001b[1;36m  Cell \u001b[1;32mIn[37], line 7\u001b[1;36m\u001b[0m\n\u001b[1;33m    if pemilih[\"id\"] ==\u001b[0m\n\u001b[1;37m                       ^\u001b[0m\n\u001b[1;31mSyntaxError\u001b[0m\u001b[1;31m:\u001b[0m invalid syntax\n"
     ]
    }
   ],
   "source": [
    "#Pemilihan\n",
    "\n",
    "daftar_pemilih = []\n",
    "\n",
    "def tambah_pemilih(id_pemilih, nama, jururusan):\n",
    "    for pemilih in daftar_pemilih:\n",
    "        if pemilih[\"id\"] ==\n",
    "id_pemilih:\n",
    "            print(\"id pemilih sudah terdaftar!\")\n",
    "return\n",
    "data = {\n",
    "    \"id\": id_pemilih,\n",
    "    \"nama\": nama,\n",
    "    \"jurusan\": jurusan,\n",
    "    \"sudah_memilih\": false\n",
    "}\n",
    "daftar_pemilih.append(data)\n",
    "print(\"pemilih berhasil ditambahkan.\")\n",
    "\n",
    "def tampilkan_pemilih():\n",
    "    for pemilih in daftar_pemilih:\n",
    "        status = \"sudah memilih\" \n",
    "        if pemilih [\"sudah_memilih\"] else \"belum memilih\"\n",
    "    print(f'{pemilih[\"id\"]} - ({pemilih jurusan}) - {status}')\n",
    "\n",
    "def cari_pemilih(id_pemilih):\n",
    "    for pemilih in daftar_pemilih:\n",
    "    if pemilih[\"id\"] ==\n",
    "    id_pemilih:\n",
    "            return pemilih\n",
    "        \n",
    "        \n"
   ]
  },
  {
   "cell_type": "code",
   "execution_count": null,
   "id": "583de47a-5686-4ce1-aada-45a3879c2ae3",
   "metadata": {},
   "outputs": [],
   "source": []
  }
 ],
 "metadata": {
  "kernelspec": {
   "display_name": "Python [conda env:base] *",
   "language": "python",
   "name": "conda-base-py"
  },
  "language_info": {
   "codemirror_mode": {
    "name": "ipython",
    "version": 3
   },
   "file_extension": ".py",
   "mimetype": "text/x-python",
   "name": "python",
   "nbconvert_exporter": "python",
   "pygments_lexer": "ipython3",
   "version": "3.12.7"
  }
 },
 "nbformat": 4,
 "nbformat_minor": 5
}
