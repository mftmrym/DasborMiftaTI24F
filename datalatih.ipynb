{
 "cells": [
  {
   "cell_type": "code",
   "execution_count": 2,
   "id": "483d92d0-4c55-4b7a-bb07-7ab0aad7d596",
   "metadata": {},
   "outputs": [
    {
     "data": {
      "text/plain": [
       "<bound method NDFrame.head of     Usia  Transaksi  Label Gender\n",
       "0     42          5      1      P\n",
       "1     53         41      0      P\n",
       "2     24         49      1      P\n",
       "3     26         29      1      P\n",
       "4     26         46      1      P\n",
       "..   ...        ...    ...    ...\n",
       "95    37         43      0      P\n",
       "96    51         37      1      L\n",
       "97    55         15      0      L\n",
       "98    48         11      1      P\n",
       "99    22         45      0      P\n",
       "\n",
       "[100 rows x 4 columns]>"
      ]
     },
     "execution_count": 2,
     "metadata": {},
     "output_type": "execute_result"
    }
   ],
   "source": [
    "import numpy as np\n",
    "import pandas as pd\n",
    "\n",
    "n_data = 100\n",
    "\n",
    "usia = np.random.randint(18,61,size=n_data)\n",
    "transaksi = np.random.randint(0,51,size=n_data)\n",
    "label = np.random.randint(0,2,size=n_data)\n",
    "gender = np.random.choice(['L','P'],size=n_data)\n",
    "\n",
    "df = pd.DataFrame({\n",
    "    'Usia' : usia,\n",
    "    'Transaksi' : transaksi,\n",
    "    'Label' : label,\n",
    "    'Gender' : gender\n",
    "})\n",
    "\n",
    "df.to_csv('DataLatih.csv',index=False)\n",
    "\n",
    "df.head #Mengetahui 5 baris pertama dari isi dataframe"
   ]
  },
  {
   "cell_type": "code",
   "execution_count": 4,
   "id": "b2c3004b-bedd-46f3-a282-0a56d084a3dd",
   "metadata": {},
   "outputs": [
    {
     "name": "stdout",
     "output_type": "stream",
     "text": [
      "<class 'pandas.core.frame.DataFrame'>\n",
      "RangeIndex: 100 entries, 0 to 99\n",
      "Data columns (total 4 columns):\n",
      " #   Column     Non-Null Count  Dtype \n",
      "---  ------     --------------  ----- \n",
      " 0   Usia       100 non-null    int32 \n",
      " 1   Transaksi  100 non-null    int32 \n",
      " 2   Label      100 non-null    int32 \n",
      " 3   Gender     100 non-null    object\n",
      "dtypes: int32(3), object(1)\n",
      "memory usage: 2.1+ KB\n"
     ]
    }
   ],
   "source": [
    "df.info()"
   ]
  },
  {
   "cell_type": "code",
   "execution_count": 6,
   "id": "e6a1c1f1-4ee3-4b4f-9b78-9bf0912117d6",
   "metadata": {},
   "outputs": [
    {
     "name": "stdout",
     "output_type": "stream",
     "text": [
      "Usia minimum : 18\n",
      "Rata-rata Usia : 37.79\n",
      "Usia Maksimum : 60\n"
     ]
    }
   ],
   "source": [
    "minAge = df['Usia'].min()\n",
    "meanAge = df['Usia'].mean()\n",
    "maxAge = df['Usia'].max()\n",
    "\n",
    "print(f\"Usia minimum : {minAge}\")\n",
    "print(f\"Rata-rata Usia : {meanAge}\")\n",
    "print(f\"Usia Maksimum : {maxAge}\")"
   ]
  },
  {
   "cell_type": "code",
   "execution_count": 8,
   "id": "70a1b89b-1931-4db9-a2df-eafe9ff31dd3",
   "metadata": {},
   "outputs": [],
   "source": [
    "#Tugas, bikin 10000 data, bikin 10 column, dan tipe bebas"
   ]
  }
 ],
 "metadata": {
  "kernelspec": {
   "display_name": "Python [conda env:base] *",
   "language": "python",
   "name": "conda-base-py"
  },
  "language_info": {
   "codemirror_mode": {
    "name": "ipython",
    "version": 3
   },
   "file_extension": ".py",
   "mimetype": "text/x-python",
   "name": "python",
   "nbconvert_exporter": "python",
   "pygments_lexer": "ipython3",
   "version": "3.12.7"
  }
 },
 "nbformat": 4,
 "nbformat_minor": 5
}
