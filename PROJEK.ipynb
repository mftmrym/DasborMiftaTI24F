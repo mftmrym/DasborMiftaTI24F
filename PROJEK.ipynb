{
 "cells": [
  {
   "cell_type": "code",
   "execution_count": 10,
   "id": "95167369-d4d8-4f6c-8fdb-8f27c7bb21e8",
   "metadata": {},
   "outputs": [
    {
     "name": "stdout",
     "output_type": "stream",
     "text": [
      "=== MENU DATA MAHASISWA ===\n",
      "1. Tambah Data Mahasiswa\n",
      "2. Tampilkan Data Mahasiswa\n",
      "3. Keluar\n"
     ]
    },
    {
     "name": "stdin",
     "output_type": "stream",
     "text": [
      "Pilih menu (1/2/3):  1\n",
      "Masukkan NIM (11 digit):  20240040072\n",
      "Masukkan Nama (minimal 6 karakter):  kifta\n"
     ]
    },
    {
     "name": "stdout",
     "output_type": "stream",
     "text": [
      "Input tidak valid: Nama harus minimal 6 karakter.\n",
      "\n",
      "=== MENU DATA MAHASISWA ===\n",
      "1. Tambah Data Mahasiswa\n",
      "2. Tampilkan Data Mahasiswa\n",
      "3. Keluar\n"
     ]
    },
    {
     "name": "stdin",
     "output_type": "stream",
     "text": [
      "Pilih menu (1/2/3):  2\n"
     ]
    },
    {
     "name": "stdout",
     "output_type": "stream",
     "text": [
      "Belum ada data mahasiswa.\n",
      "\n",
      "=== MENU DATA MAHASISWA ===\n",
      "1. Tambah Data Mahasiswa\n",
      "2. Tampilkan Data Mahasiswa\n",
      "3. Keluar\n"
     ]
    },
    {
     "name": "stdin",
     "output_type": "stream",
     "text": [
      "Pilih menu (1/2/3):  2\n"
     ]
    },
    {
     "name": "stdout",
     "output_type": "stream",
     "text": [
      "Belum ada data mahasiswa.\n",
      "\n",
      "=== MENU DATA MAHASISWA ===\n",
      "1. Tambah Data Mahasiswa\n",
      "2. Tampilkan Data Mahasiswa\n",
      "3. Keluar\n"
     ]
    },
    {
     "name": "stdin",
     "output_type": "stream",
     "text": [
      "Pilih menu (1/2/3):  1\n",
      "Masukkan NIM (11 digit):  20240040072\n",
      "Masukkan Nama (minimal 6 karakter):  mifta\n"
     ]
    },
    {
     "name": "stdout",
     "output_type": "stream",
     "text": [
      "Input tidak valid: Nama harus minimal 6 karakter.\n",
      "\n",
      "=== MENU DATA MAHASISWA ===\n",
      "1. Tambah Data Mahasiswa\n",
      "2. Tampilkan Data Mahasiswa\n",
      "3. Keluar\n"
     ]
    },
    {
     "name": "stdin",
     "output_type": "stream",
     "text": [
      "Pilih menu (1/2/3):  1\n",
      "Masukkan NIM (11 digit):  20240040072\n",
      "Masukkan Nama (minimal 6 karakter):  mifta\n"
     ]
    },
    {
     "name": "stdout",
     "output_type": "stream",
     "text": [
      "Input tidak valid: Nama harus minimal 6 karakter.\n",
      "\n",
      "=== MENU DATA MAHASISWA ===\n",
      "1. Tambah Data Mahasiswa\n",
      "2. Tampilkan Data Mahasiswa\n",
      "3. Keluar\n"
     ]
    },
    {
     "name": "stdin",
     "output_type": "stream",
     "text": [
      "Pilih menu (1/2/3):  1\n",
      "Masukkan NIM (11 digit):  202400040072\n"
     ]
    },
    {
     "name": "stdout",
     "output_type": "stream",
     "text": [
      "Input tidak valid: NIM harus terdiri dari 11 digit angka.\n",
      "\n",
      "=== MENU DATA MAHASISWA ===\n",
      "1. Tambah Data Mahasiswa\n",
      "2. Tampilkan Data Mahasiswa\n",
      "3. Keluar\n"
     ]
    },
    {
     "name": "stdin",
     "output_type": "stream",
     "text": [
      "Pilih menu (1/2/3):  1\n",
      "Masukkan NIM (11 digit):  20230030303\n",
      "Masukkan Nama (minimal 6 karakter):  miftaaa\n",
      "Masukkan Alamat (minimal 10 karakter):  sukabumi sukabumi\n",
      "Masukkan Kelas (TI23 atau TI24):  TI24\n"
     ]
    },
    {
     "name": "stdout",
     "output_type": "stream",
     "text": [
      "Data mahasiswa berhasil ditambahkan!\n",
      "\n",
      "=== MENU DATA MAHASISWA ===\n",
      "1. Tambah Data Mahasiswa\n",
      "2. Tampilkan Data Mahasiswa\n",
      "3. Keluar\n"
     ]
    },
    {
     "name": "stdin",
     "output_type": "stream",
     "text": [
      "Pilih menu (1/2/3):  2\n"
     ]
    },
    {
     "name": "stdout",
     "output_type": "stream",
     "text": [
      "\n",
      "Daftar Mahasiswa:\n",
      "1. NIM: 20230030303 | Nama: miftaaa | Alamat: sukabumi sukabumi | Kelas: TI24\n",
      "\n",
      "=== MENU DATA MAHASISWA ===\n",
      "1. Tambah Data Mahasiswa\n",
      "2. Tampilkan Data Mahasiswa\n",
      "3. Keluar\n"
     ]
    },
    {
     "name": "stdin",
     "output_type": "stream",
     "text": [
      "Pilih menu (1/2/3):  3\n"
     ]
    },
    {
     "name": "stdout",
     "output_type": "stream",
     "text": [
      "Terima kasih!\n"
     ]
    }
   ],
   "source": [
    "def tambahMaha():\n",
    "    try:\n",
    "        nim = input(\"Masukan NIM Mahasiswa (11 digit): \")\n",
    "        if len(nim) != 11 or not nim.isdigit():\n",
    "            raise NIMTidakValid(\"NIM harus terdiri dari tepat 11 digit angka.\")\n",
    "        \n",
    "        nama = input(\"Masukan Nama Mahasiswa (min. 6 karakter): \")\n",
    "        if len(nama) < 6:\n",
    "            raise ValueError(\"Nama minimal 6 karakter.\")\n",
    "\n",
    "        alamat = input(\"Masukan Alamat Mahasiswa (min. 10 karakter): \")\n",
    "        if len(alamat) < 10:\n",
    "            raise ValueError(\"Alamat minimal 10 karakter.\")\n",
    "\n",
    "        kelas = input(\"Masukan Kelas Mahasiswa (TI23 / TI24): \").upper()\n",
    "        if kelas not in [\"TI23\", \"TI24\"]:\n",
    "            raise ValueError(\"Kelas harus 'TI23' atau 'TI24'.\")\n",
    "\n",
    "        dataList[nim] = [nama, alamat, kelas]\n",
    "        print(\"Data berhasil ditambahkan!\")\n",
    "        \n",
    "    except (NIMTidakValid,Exception,ValueError) as err:\n",
    "        print(\"Terjadi kesalahan:\", err)"
   ]
  },
  {
   "cell_type": "code",
   "execution_count": null,
   "id": "87381aeb-524b-4763-968c-d93b5bfd8413",
   "metadata": {},
   "outputs": [],
   "source": []
  }
 ],
 "metadata": {
  "kernelspec": {
   "display_name": "Python [conda env:base] *",
   "language": "python",
   "name": "conda-base-py"
  },
  "language_info": {
   "codemirror_mode": {
    "name": "ipython",
    "version": 3
   },
   "file_extension": ".py",
   "mimetype": "text/x-python",
   "name": "python",
   "nbconvert_exporter": "python",
   "pygments_lexer": "ipython3",
   "version": "3.12.7"
  }
 },
 "nbformat": 4,
 "nbformat_minor": 5
}
