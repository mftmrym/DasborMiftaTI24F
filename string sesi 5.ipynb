{
 "cells": [
  {
   "cell_type": "markdown",
   "id": "b643f4e1",
   "metadata": {},
   "source": [
    "<h3>Fungsi join<h3/>"
   ]
  },
  {
   "cell_type": "code",
   "execution_count": 2,
   "id": "5ff714e0",
   "metadata": {},
   "outputs": [
    {
     "name": "stdout",
     "output_type": "stream",
     "text": [
      "gabungan: mifta mimip emip\n"
     ]
    }
   ],
   "source": [
    "#fungsi join dipakai untuk membuat list menyatu dengan string\n",
    "\n",
    "string = [\"mifta\",\"mimip\",\"emip\"]\n",
    "hasil1 = \" \".join(string)\n",
    "print(\"gabungan:\", hasil1)"
   ]
  },
  {
   "cell_type": "markdown",
   "id": "7b477eb3",
   "metadata": {},
   "source": [
    "<h3> Fungsi Lowen<h3/>"
   ]
  },
  {
   "cell_type": "code",
   "execution_count": 9,
   "id": "0ae51a29",
   "metadata": {},
   "outputs": [
    {
     "name": "stdout",
     "output_type": "stream",
     "text": [
      "hasil: you and me\n"
     ]
    }
   ],
   "source": [
    "string = \"you and me\"\n",
    "hasil = string.lower()\n",
    "print(\"hasil:\",hasil)"
   ]
  },
  {
   "cell_type": "markdown",
   "id": "7147cb0f",
   "metadata": {},
   "source": [
    "<h3> Fungsi Upper<h3/>"
   ]
  },
  {
   "cell_type": "code",
   "execution_count": 13,
   "id": "f047669f",
   "metadata": {},
   "outputs": [
    {
     "name": "stdout",
     "output_type": "stream",
     "text": [
      "hasil: MACAN\n"
     ]
    }
   ],
   "source": [
    "string = \"macan\"\n",
    "hasil = string.upper()\n",
    "print(\"hasil:\",hasil)"
   ]
  },
  {
   "cell_type": "markdown",
   "id": "69113025",
   "metadata": {},
   "source": [
    "<h3> Fungsi Trip <h3/>"
   ]
  },
  {
   "cell_type": "code",
   "execution_count": 12,
   "id": "5cdf733b",
   "metadata": {},
   "outputs": [
    {
     "name": "stdout",
     "output_type": "stream",
     "text": [
      "hasil: lalala macem apa nih\n"
     ]
    }
   ],
   "source": [
    "string = \"lalala macem apa nih\"\n",
    "hasil = string.strip()\n",
    "print(\"hasil:\",hasil)"
   ]
  },
  {
   "cell_type": "markdown",
   "id": "f297a540",
   "metadata": {},
   "source": [
    "<h3> fungsi Replace<h3/>"
   ]
  },
  {
   "cell_type": "code",
   "execution_count": 16,
   "id": "d9380c59",
   "metadata": {},
   "outputs": [
    {
     "name": "stdout",
     "output_type": "stream",
     "text": [
      "hasil: aku belajar python dengan belajar\n"
     ]
    }
   ],
   "source": [
    "string = \"aku belajar python dengan semangat\"\n",
    "hasil = string.replace(\"semangat\",\"belajar\")\n",
    "print(\"hasil:\",hasil)"
   ]
  },
  {
   "cell_type": "markdown",
   "id": "5fc81a48",
   "metadata": {},
   "source": [
    "<h3>Fungsi startwith/endswithy<h3/>"
   ]
  },
  {
   "cell_type": "code",
   "execution_count": 4,
   "id": "d3d733e8",
   "metadata": {},
   "outputs": [
    {
     "name": "stdout",
     "output_type": "stream",
     "text": [
      "string dimulai dengan 'www'\n",
      "string diakhri dengan '.com'\n"
     ]
    }
   ],
   "source": [
    "string = \"www.facebook.com\"\n",
    "if string.startswith(\"www\"):\n",
    "    print(\"string dimulai dengan 'www'\")\n",
    "    \n",
    "if string.endswith(\".com\"):\n",
    "    print(\"string diakhri dengan '.com'\")"
   ]
  },
  {
   "cell_type": "markdown",
   "id": "32dfcc45",
   "metadata": {},
   "source": [
    "<h3>Fungsi len<h3/>"
   ]
  },
  {
   "cell_type": "code",
   "execution_count": 5,
   "id": "c18dcd23",
   "metadata": {},
   "outputs": [
    {
     "name": "stdout",
     "output_type": "stream",
     "text": [
      "hasil split: ['mifta', 'sitimariam']\n"
     ]
    }
   ],
   "source": [
    "string = \"mifta,sitimariam\"\n",
    "hasil = string.split(\",\")\n",
    "print(\"hasil split:\",hasil)"
   ]
  }
 ],
 "metadata": {
  "kernelspec": {
   "display_name": "Python 3 (ipykernel)",
   "language": "python",
   "name": "python3"
  },
  "language_info": {
   "codemirror_mode": {
    "name": "ipython",
    "version": 3
   },
   "file_extension": ".py",
   "mimetype": "text/x-python",
   "name": "python",
   "nbconvert_exporter": "python",
   "pygments_lexer": "ipython3",
   "version": "3.9.12"
  }
 },
 "nbformat": 4,
 "nbformat_minor": 5
}
