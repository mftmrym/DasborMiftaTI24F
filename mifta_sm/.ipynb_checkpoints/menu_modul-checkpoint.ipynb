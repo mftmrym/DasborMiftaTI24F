{
 "cells": [
  {
   "cell_type": "code",
   "execution_count": 11,
   "id": "d83693e6-c0c7-43e3-98ca-9c0e7b03d8ef",
   "metadata": {},
   "outputs": [
    {
     "ename": "ModuleNotFoundError",
     "evalue": "No module named 'aritmatika'",
     "output_type": "error",
     "traceback": [
      "\u001b[1;31m---------------------------------------------------------------------------\u001b[0m",
      "\u001b[1;31mModuleNotFoundError\u001b[0m                       Traceback (most recent call last)",
      "Cell \u001b[1;32mIn[11], line 1\u001b[0m\n\u001b[1;32m----> 1\u001b[0m \u001b[38;5;28;01mimport\u001b[39;00m \u001b[38;5;21;01maritmatika\u001b[39;00m\n\u001b[0;32m      2\u001b[0m \u001b[38;5;28;01mimport\u001b[39;00m \u001b[38;5;21;01mkonversi\u001b[39;00m\n\u001b[0;32m      3\u001b[0m \u001b[38;5;28;01mimport\u001b[39;00m \u001b[38;5;21;01mubah_bilangan\u001b[39;00m\n",
      "\u001b[1;31mModuleNotFoundError\u001b[0m: No module named 'aritmatika'"
     ]
    }
   ],
   "source": [
    "import aritmatika\n",
    "import konversi\n",
    "import ubah_bilangan\n",
    "\n",
    "def menu_utama():\n",
    "    while True:\n",
    "        print(\"\\n=== MENU UTAMA ===\")\n",
    "        print(\"1. Aritmatika\")\n",
    "        print(\"2. Konversi\")\n",
    "        print(\"3. Ubah Bilangan\")\n",
    "        print(\"4. Keluar\")\n",
    "        pilihan = input(\"Pilih menu (1-4): \")\n",
    "\n",
    "        if pilihan == '1':\n",
    "            aritmatika.menu_aritmatika()\n",
    "        elif pilihan == '2':\n",
    "            konversi.menu_konversi()\n",
    "        elif pilihan == '3':\n",
    "            ubah_bilangan.menu_ubah_bilangan()\n",
    "        elif pilihan == '4':\n",
    "            print(\"Terima kasih telah menggunakan program ini!\")\n",
    "            break\n",
    "        else:\n",
    "            print(\"Pilihan tidak valid, silakan coba lagi.\")\n",
    "\n",
    "if __name__ == \"__main__\":\n",
    "    menu_utama()\n"
   ]
  },
  {
   "cell_type": "code",
   "execution_count": 13,
   "id": "fd62ae23-efd2-4f52-9082-c88dc5f5206c",
   "metadata": {},
   "outputs": [],
   "source": [
    "def menu_aritmatika():\n",
    "    print(\"\\n--- Menu Aritmatika ---\")\n",
    "    print(\"1. Penjumlahan\")\n",
    "    print(\"2. Perpangkatan\")\n",
    "    print(\"3. Perkalian\")\n",
    "    pilihan = input(\"Pilih operasi (1-3): \")\n",
    "\n",
    "    try:\n",
    "        a = float(input(\"Masukkan bilangan pertama: \"))\n",
    "        b = float(input(\"Masukkan bilangan kedua: \"))\n",
    "    except ValueError:\n",
    "        print(\"Input harus berupa angka.\")\n",
    "        return\n",
    "\n",
    "    if pilihan == '1':\n",
    "        print(f\"Hasil penjumlahan: {a + b}\")\n",
    "    elif pilihan == '2':\n",
    "        print(f\"Hasil perpangkatan: {a ** b}\")\n",
    "    elif pilihan == '3':\n",
    "        print(f\"Hasil perkalian: {a * b}\")\n",
    "    else:\n",
    "        print(\"Pilihan tidak valid.\")\n"
   ]
  },
  {
   "cell_type": "code",
   "execution_count": null,
   "id": "601de4ad-eb5d-4479-a6a8-31cd91a5f7a1",
   "metadata": {},
   "outputs": [],
   "source": [
    "def menu_konversi():\n",
    "    print(\"\\n--- Menu Konversi ---\")\n",
    "    print(\"1. CM to M\")\n",
    "    print(\"2. M to CM\")\n",
    "    pilihan = input(\"Pilih konversi (1-2): \")\n",
    "\n",
    "    try:\n",
    "        bil = float(input(\"Masukkan nilai: \"))\n",
    "    except ValueError:\n",
    "        print(\"Input harus berupa angka.\")\n",
    "        return\n",
    "\n",
    "    if pilihan == '1':\n",
    "        print(f\"{bil} cm = {bil / 100} m\")\n",
    "    elif pilihan == '2':\n",
    "        print(f\"{bil} m = {bil * 100} cm\")\n",
    "    else:\n",
    "        print(\"Pilihan tidak valid.\")\n"
   ]
  },
  {
   "cell_type": "code",
   "execution_count": 9,
   "id": "d55cc613-e37f-4528-9f03-98aee3b34d2b",
   "metadata": {},
   "outputs": [],
   "source": [
    "def menu_ubah_bilangan():\n",
    "    print(\"\\n--- Menu Ubah Bilangan ---\")\n",
    "    print(\"1. Desimal to Biner\")\n",
    "    print(\"2. Desimal to Oktal\")\n",
    "    print(\"3. Desimal to Hexadesimal\")\n",
    "    pilihan = input(\"Pilih konversi (1-3): \")\n",
    "\n",
    "    try:\n",
    "        bil = int(input(\"Masukkan bilangan desimal: \"))\n",
    "    except ValueError:\n",
    "        print(\"Input harus berupa bilangan bulat.\")\n",
    "        return\n",
    "\n",
    "    if pilihan == '1':\n",
    "        print(f\"Biner: {bin(bil)}\")\n",
    "    elif pilihan == '2':\n",
    "        print(f\"Oktal: {oct(bil)}\")\n",
    "    elif pilihan == '3':\n",
    "        print(f\"Hexadesimal: {hex(bil)}\")\n",
    "    else:\n",
    "        print(\"Pilihan tidak valid.\")\n"
   ]
  },
  {
   "cell_type": "code",
   "execution_count": null,
   "id": "e86d2af8-e3c9-4368-887a-3691fc6e4b0c",
   "metadata": {},
   "outputs": [],
   "source": []
  }
 ],
 "metadata": {
  "kernelspec": {
   "display_name": "Python [conda env:base] *",
   "language": "python",
   "name": "conda-base-py"
  },
  "language_info": {
   "codemirror_mode": {
    "name": "ipython",
    "version": 3
   },
   "file_extension": ".py",
   "mimetype": "text/x-python",
   "name": "python",
   "nbconvert_exporter": "python",
   "pygments_lexer": "ipython3",
   "version": "3.12.7"
  }
 },
 "nbformat": 4,
 "nbformat_minor": 5
}
