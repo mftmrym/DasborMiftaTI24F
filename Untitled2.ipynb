{
 "cells": [
  {
   "cell_type": "code",
   "execution_count": 2,
   "id": "3f93bd4b-ba85-415d-bd06-095d2d31e702",
   "metadata": {},
   "outputs": [
    {
     "data": {
      "text/plain": [
       "<bound method NDFrame.head of     Usia  Transaksi  Label Gender\n",
       "0     57         13      1      L\n",
       "1     24          8      1      L\n",
       "2     57         44      1      L\n",
       "3     24         37      1      P\n",
       "4     33          6      1      L\n",
       "..   ...        ...    ...    ...\n",
       "95    18         18      0      L\n",
       "96    48         10      0      P\n",
       "97    59         42      0      P\n",
       "98    36         12      1      L\n",
       "99    35         17      0      L\n",
       "\n",
       "[100 rows x 4 columns]>"
      ]
     },
     "execution_count": 2,
     "metadata": {},
     "output_type": "execute_result"
    }
   ],
   "source": [
    "import numpy as np\n",
    "import pandas as pd\n",
    "\n",
    "n_data = 100\n",
    "\n",
    "usia = np.random.randint(18,61,size=n_data)\n",
    "transaksi = np.random.randint(0,51,size=n_data)\n",
    "label = np.random.randint(0,2,size=n_data)\n",
    "gender = np.random.choice(['L','P'],size=n_data)\n",
    "\n",
    "df = pd.DataFrame({\n",
    "    'Usia' : usia,\n",
    "    'Transaksi' : transaksi,\n",
    "    'Label' : label,\n",
    "    'Gender' : gender\n",
    "})\n",
    "\n",
    "df.to_csv('DataLatih.csv',index=False)\n",
    "\n",
    "df.head #Mengetahui 5 baris pertama dari isi dataframe"
   ]
  },
  {
   "cell_type": "code",
   "execution_count": 4,
   "id": "1f52cc9b-be10-49f2-ad28-1b99e55764c8",
   "metadata": {},
   "outputs": [
    {
     "data": {
      "text/plain": [
       "<bound method NDFrame.head of     Usia  Transaksi  Label Gender\n",
       "0     45         28      1      P\n",
       "1     35         41      1      P\n",
       "2     50         49      1      L\n",
       "3     19         45      1      L\n",
       "4     33         42      0      P\n",
       "..   ...        ...    ...    ...\n",
       "95    50          4      0      P\n",
       "96    47         31      1      P\n",
       "97    32         23      0      P\n",
       "98    41         46      1      L\n",
       "99    35         21      0      L\n",
       "\n",
       "[100 rows x 4 columns]>"
      ]
     },
     "execution_count": 4,
     "metadata": {},
     "output_type": "execute_result"
    }
   ],
   "source": [
    "import numpy as np\n",
    "import pandas as pd\n",
    "\n",
    "n_data = 100\n",
    "\n",
    "usia = np.random.randint(18,61,size=n_data)\n",
    "transaksi = np.random.randint(0,51,size=n_data)\n",
    "label = np.random.randint(0,2,size=n_data)\n",
    "gender = np.random.choice(['L','P'],size=n_data)\n",
    "\n",
    "df = pd.DataFrame({\n",
    "    'Usia' : usia,\n",
    "    'Transaksi' : transaksi,\n",
    "    'Label' : label,\n",
    "    'Gender' : gender\n",
    "})\n",
    "\n",
    "df.to_csv('DataLatih.csv',index=False)\n",
    "\n",
    "df.head #Mengetahui 5 baris pertama dari isi dataframe"
   ]
  },
  {
   "cell_type": "code",
   "execution_count": 6,
   "id": "5518e31a-d96c-4006-b5c3-99aa1dfbe405",
   "metadata": {},
   "outputs": [
    {
     "name": "stdout",
     "output_type": "stream",
     "text": [
      "Usia minimum : 18\n",
      "Rata-rata Usia : 38.63\n",
      "Usia Maksimum : 60\n"
     ]
    }
   ],
   "source": [
    "minAge = df['Usia'].min()\n",
    "meanAge = df['Usia'].mean()\n",
    "maxAge = df['Usia'].max()\n",
    "\n",
    "print(f\"Usia minimum : {minAge}\")\n",
    "print(f\"Rata-rata Usia : {meanAge}\")\n",
    "print(f\"Usia Maksimum : {maxAge}\")"
   ]
  },
  {
   "cell_type": "code",
   "execution_count": null,
   "id": "d81d9d5d-3555-40da-80b8-beaa54a81cec",
   "metadata": {},
   "outputs": [],
   "source": []
  }
 ],
 "metadata": {
  "kernelspec": {
   "display_name": "Python [conda env:base] *",
   "language": "python",
   "name": "conda-base-py"
  },
  "language_info": {
   "codemirror_mode": {
    "name": "ipython",
    "version": 3
   },
   "file_extension": ".py",
   "mimetype": "text/x-python",
   "name": "python",
   "nbconvert_exporter": "python",
   "pygments_lexer": "ipython3",
   "version": "3.12.7"
  }
 },
 "nbformat": 4,
 "nbformat_minor": 5
}
