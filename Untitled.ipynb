{
 "cells": [
  {
   "cell_type": "code",
   "execution_count": null,
   "id": "cd3996b6-a9ce-4353-8e68-d57d80d12271",
   "metadata": {},
   "outputs": [],
   "source": []
  }
 ],
 "metadata": {
  "kernelspec": {
   "display_name": "",
   "name": ""
  },
  "language_info": {
   "name": ""
  }
 },
 "nbformat": 4,
 "nbformat_minor": 5
}
