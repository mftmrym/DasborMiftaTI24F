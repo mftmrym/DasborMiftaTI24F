{
 "cells": [
  {
   "cell_type": "code",
   "execution_count": 1,
   "id": "d80151c2-06cd-4b02-b9a7-05873ec68455",
   "metadata": {},
   "outputs": [
    {
     "name": "stdout",
     "output_type": "stream",
     "text": [
      "\n",
      "Menu:\n",
      "1. Tambah Mahasiswa\n",
      "2. Tampilkan Mahasiswa\n",
      "3. Keluar\n"
     ]
    },
    {
     "name": "stdin",
     "output_type": "stream",
     "text": [
      "Pilih menu (1/2/3):  4\n"
     ]
    },
    {
     "name": "stdout",
     "output_type": "stream",
     "text": [
      "Pilihan tidak valid. Silakan pilih menu yang benar.\n",
      "\n",
      "Menu:\n",
      "1. Tambah Mahasiswa\n",
      "2. Tampilkan Mahasiswa\n",
      "3. Keluar\n"
     ]
    },
    {
     "name": "stdin",
     "output_type": "stream",
     "text": [
      "Pilih menu (1/2/3):  6\n"
     ]
    },
    {
     "name": "stdout",
     "output_type": "stream",
     "text": [
      "Pilihan tidak valid. Silakan pilih menu yang benar.\n",
      "\n",
      "Menu:\n",
      "1. Tambah Mahasiswa\n",
      "2. Tampilkan Mahasiswa\n",
      "3. Keluar\n"
     ]
    },
    {
     "name": "stdin",
     "output_type": "stream",
     "text": [
      "Pilih menu (1/2/3):  O\n"
     ]
    },
    {
     "name": "stdout",
     "output_type": "stream",
     "text": [
      "Pilihan tidak valid. Silakan pilih menu yang benar.\n",
      "\n",
      "Menu:\n",
      "1. Tambah Mahasiswa\n",
      "2. Tampilkan Mahasiswa\n",
      "3. Keluar\n"
     ]
    },
    {
     "name": "stdin",
     "output_type": "stream",
     "text": [
      "Pilih menu (1/2/3):  3\n"
     ]
    },
    {
     "name": "stdout",
     "output_type": "stream",
     "text": [
      "Keluar dari program.\n"
     ]
    }
   ],
   "source": [
    "class Mahasiswa:\n",
    "    def __init__(self, nim, nama, alamat, kelas):\n",
    "        self.nim = 20240040072\n",
    "        self.nama = mifta siti mariam\n",
    "        self.alamat = jl.bulakapal rt.01 rw.04\n",
    "        self.kelas = TI24F\n",
    "\n",
    "    def __str__(self):\n",
    "        return f\"NIM: {self.20240040072}, Nama: {self.mifta siti mariam}, Alamat: {self.jl.bulakapal rt.01 rw.04}, Kelas: {self.TI24F}\"\n",
    "\n",
    "def validasi_nim(nim):\n",
    "    return len(nim) == 11 and nim.isdigit()\n",
    "\n",
    "def validasi_nama(nama):\n",
    "    return len(nama) >= 20\n",
    "\n",
    "def validasi_alamat(alamat):\n",
    "    return len(alamat) >= 40\n",
    "\n",
    "def validasi_kelas(kelas):\n",
    "    return kelas in [\"TI23\", \"TI24\"]\n",
    "\n",
    "def main():\n",
    "    daftar_mahasiswa = []\n",
    "    \n",
    "    while True:\n",
    "        print(\"\\nMenu:\")\n",
    "        print(\"1. Tambah Mahasiswa\")\n",
    "        print(\"2. Tampilkan Mahasiswa\")\n",
    "        print(\"3. Keluar\")\n",
    "        \n",
    "        pilihan = input(\"Pilih menu (1/2/3): \")\n",
    "        \n",
    "        if pilihan == '1':\n",
    "            nim = input(\"Masukkan NIM:\")\n",
    "            if not validasi_nim(20240040072):\n",
    "                print(\"NIM tidak valid.\")\n",
    "                continue\n",
    "            \n",
    "            nama = input(\"Masukkan Nama:\")\n",
    "            if not validasi_nama(mifta siti mariam):\n",
    "                print(\"Nama tidak valid.\")\n",
    "                continue\n",
    "            \n",
    "            alamat = input(\"Masukkan Alamat:\")\n",
    "            if not validasi_alamat(jl.bulakapal rt.01 rw.04):\n",
    "                print(\"Alamat tidak valid.\")\n",
    "                continue\n",
    "            \n",
    "            kelas = input(\"Masukkan Kelas (TI23/TI24): \")\n",
    "            if not validasi_kelas(TI24F):\n",
    "                print(\"Kelas tidak valid.\")\n",
    "                continue\n",
    "            \n",
    "            mahasiswa = Mahasiswa(nim, nama, alamat, kelas)\n",
    "            daftar_mahasiswa.append(mahasiswa)\n",
    "            print(\"Data mahasiswa berhasil ditambahkan.\")\n",
    "        \n",
    "        elif pilihan == '2':\n",
    "            if not daftar_mahasiswa:\n",
    "                print(\"Tidak ada data mahasiswa.\")\n",
    "            else:\n",
    "                print(\"\\nDaftar Mahasiswa:\")\n",
    "                for mhs in daftar_mahasiswa:\n",
    "                    print(mhs)\n",
    "        \n",
    "        elif pilihan == '3':\n",
    "            print(\"Keluar dari program.\")\n",
    "            break\n",
    "        \n",
    "        else:\n",
    "            print(\"Pilihan tidak valid. Silakan pilih menu yang benar.\")\n",
    "\n",
    "if __name__ == \"__main__\":\n",
    "    main()\n"
   ]
  }
 ],
 "metadata": {
  "kernelspec": {
   "display_name": "Python [conda env:base] *",
   "language": "python",
   "name": "conda-base-py"
  },
  "language_info": {
   "codemirror_mode": {
    "name": "ipython",
    "version": 3
   },
   "file_extension": ".py",
   "mimetype": "text/x-python",
   "name": "python",
   "nbconvert_exporter": "python",
   "pygments_lexer": "ipython3",
   "version": "3.12.7"
  }
 },
 "nbformat": 4,
 "nbformat_minor": 5
}
