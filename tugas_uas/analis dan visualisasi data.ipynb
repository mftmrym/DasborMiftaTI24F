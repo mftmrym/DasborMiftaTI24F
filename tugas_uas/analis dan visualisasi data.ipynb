{
 "cells": [
  {
   "cell_type": "code",
   "execution_count": 70,
   "id": "e0c8fc25-b4a0-4770-b1d1-25d521d6a117",
   "metadata": {},
   "outputs": [],
   "source": [
    "import numpy as np\n",
    "import pandas as pd\n",
    "import matplotlib.pyplot as plt\n",
    "from sklearn.linear_model import LinearRegression"
   ]
  },
  {
   "cell_type": "code",
   "execution_count": 71,
   "id": "799eadcf-43b7-4388-888b-7e1821601134",
   "metadata": {},
   "outputs": [
    {
     "ename": "KeyError",
     "evalue": "'Time_spent_Alone; Stage_fear; Social_event_attendance; Going_outside; Drained_after_socializing; Friends_circle_size; Post_frequency; Personality'",
     "output_type": "error",
     "traceback": [
      "\u001b[1;31m---------------------------------------------------------------------------\u001b[0m",
      "\u001b[1;31mKeyError\u001b[0m                                  Traceback (most recent call last)",
      "Cell \u001b[1;32mIn[71], line 8\u001b[0m\n\u001b[0;32m      4\u001b[0m df \u001b[38;5;241m=\u001b[39m pd\u001b[38;5;241m.\u001b[39mread_csv(\u001b[38;5;124m\"\u001b[39m\u001b[38;5;124mpersonality_dataset.csv\u001b[39m\u001b[38;5;124m\"\u001b[39m) \n\u001b[0;32m      5\u001b[0m data_dict \u001b[38;5;241m=\u001b[39m df\u001b[38;5;241m.\u001b[39mto_dict(orient\u001b[38;5;241m=\u001b[39m\u001b[38;5;124m'\u001b[39m\u001b[38;5;124mrecords\u001b[39m\u001b[38;5;124m'\u001b[39m)\n\u001b[0;32m      7\u001b[0m split_data \u001b[38;5;241m=\u001b[39m [\n\u001b[1;32m----> 8\u001b[0m     row[\u001b[38;5;124m'\u001b[39m\u001b[38;5;124mTime_spent_Alone; Stage_fear; Social_event_attendance; Going_outside; Drained_after_socializing; Friends_circle_size; Post_frequency; Personality\u001b[39m\u001b[38;5;124m'\u001b[39m]\u001b[38;5;241m.\u001b[39msplit(\u001b[38;5;124m'\u001b[39m\u001b[38;5;124m;\u001b[39m\u001b[38;5;124m'\u001b[39m)\n\u001b[0;32m      9\u001b[0m     \u001b[38;5;28;01mfor\u001b[39;00m row \u001b[38;5;129;01min\u001b[39;00m data_dict\n\u001b[0;32m     10\u001b[0m ]\n\u001b[0;32m     12\u001b[0m columns \u001b[38;5;241m=\u001b[39m [\u001b[38;5;124m'\u001b[39m\u001b[38;5;124mTime_spent_Alone\u001b[39m\u001b[38;5;124m'\u001b[39m, \u001b[38;5;124m'\u001b[39m\u001b[38;5;124mStage_fear\u001b[39m\u001b[38;5;124m'\u001b[39m, \u001b[38;5;124m'\u001b[39m\u001b[38;5;124mSocial_event_attendance\u001b[39m\u001b[38;5;124m'\u001b[39m, \u001b[38;5;124m'\u001b[39m\u001b[38;5;124mGoing_outside\u001b[39m\u001b[38;5;124m'\u001b[39m, \u001b[38;5;124m'\u001b[39m\u001b[38;5;124mDrained_after_socializing\u001b[39m\u001b[38;5;124m'\u001b[39m, \u001b[38;5;124m'\u001b[39m\u001b[38;5;124mFriends_circle_size\u001b[39m\u001b[38;5;124m'\u001b[39m, \u001b[38;5;124m'\u001b[39m\u001b[38;5;124mPost_frequency\u001b[39m\u001b[38;5;124m'\u001b[39m, \u001b[38;5;124m'\u001b[39m\u001b[38;5;124mPersonality\u001b[39m\u001b[38;5;124m'\u001b[39m]\n\u001b[0;32m     13\u001b[0m df \u001b[38;5;241m=\u001b[39m pd\u001b[38;5;241m.\u001b[39mDataFrame(split_data, columns\u001b[38;5;241m=\u001b[39mcolumns)\n",
      "\u001b[1;31mKeyError\u001b[0m: 'Time_spent_Alone; Stage_fear; Social_event_attendance; Going_outside; Drained_after_socializing; Friends_circle_size; Post_frequency; Personality'"
     ]
    }
   ],
   "source": [
    "import pandas as pd\n",
    "\n",
    "try:\n",
    "    df = pd.read_csv(\"personality_dataset.csv\") \n",
    "    data_dict = df.to_dict(orient='records')\n",
    "\n",
    "    split_data = [\n",
    "        row['Time_spent_Alone; Stage_fear; Social_event_attendance; Going_outside; Drained_after_socializing; Friends_circle_size; Post_frequency; Personality'].split(';')\n",
    "        for row in data_dict\n",
    "    ]\n",
    "\n",
    "    columns = ['Time_spent_Alone', 'Stage_fear', 'Social_event_attendance', 'Going_outside', 'Drained_after_socializing', 'Friends_circle_size', 'Post_frequency', 'Personality']\n",
    "    df = pd.DataFrame(split_data, columns=columns)\n",
    "\n",
    "    # Convert numeric columns to float\n",
    "    numeric_cols = ['Time_spent_Alone;Social_event_attendance;Going_outside;Friends_circle_size;Post_frequency'] \n",
    "    df[numeric_cols] = df[numeric_cols].astype(float)\n",
    "\n",
    "    print(df) \n",
    "\n",
    "except FileNotFoundError:\n",
    "    print(\"File not found\")\n"
   ]
  },
  {
   "cell_type": "code",
   "execution_count": null,
   "id": "5a2112d5-40f6-450c-b586-146fb5ed0d4e",
   "metadata": {},
   "outputs": [],
   "source": [
    "mean_value = np.mean(df[\"Stage_fear\"])\n",
    "print(mean_value)\n",
    "plt.figure(figsize=(8, 5))\n",
    "plt.hist(df[\"Stage_fear\"], bins=15, color='pink', edgecolor='blue', alpha=0.7, label='Data Distribution')\n",
    "\n",
    "#Add a horizontal line for the mean\n",
    "plt.axvline(mean_value, color='red', linestyle='--', linewidth=2, label=f'Mean: {mean_value:.2f}')\n",
    "\n",
    "#Add labels and legend\n",
    "plt.title('Data Distribution with Mean')\n",
    "plt.xlabel('Value')\n",
    "plt.ylabel('Frequency')\n",
    "plt.legend()\n",
    "\n",
    "# Show the plot\n",
    "plt.show()\n",
    "\n"
   ]
  }
 ],
 "metadata": {
  "kernelspec": {
   "display_name": "Python [conda env:base] *",
   "language": "python",
   "name": "conda-base-py"
  },
  "language_info": {
   "codemirror_mode": {
    "name": "ipython",
    "version": 3
   },
   "file_extension": ".py",
   "mimetype": "text/x-python",
   "name": "python",
   "nbconvert_exporter": "python",
   "pygments_lexer": "ipython3",
   "version": "3.12.7"
  }
 },
 "nbformat": 4,
 "nbformat_minor": 5
}
