{
 "cells": [
  {
   "cell_type": "code",
   "execution_count": null,
   "id": "df2dc5f4-a290-48a5-8d76-ed9041145269",
   "metadata": {},
   "outputs": [],
   "source": []
  }
 ],
 "metadata": {
  "kernelspec": {
   "display_name": "Python [conda env:base] *",
   "language": "python",
   "name": "conda-base-py"
  },
  "language_info": {
   "name": ""
  }
 },
 "nbformat": 4,
 "nbformat_minor": 5
}
