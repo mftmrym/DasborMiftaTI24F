{
 "cells": [
  {
   "cell_type": "code",
   "execution_count": 4,
   "id": "4039db83-1185-490d-8de6-3b360204c47f",
   "metadata": {},
   "outputs": [
    {
     "name": "stdin",
     "output_type": "stream",
     "text": [
      " bubur ayam\n"
     ]
    },
    {
     "name": "stdout",
     "output_type": "stream",
     "text": [
      "rububmaya"
     ]
    }
   ],
   "source": [
    "def reversedword(word):\n",
    "    word = word.split(\" \")\n",
    "    for i in range(len(word)):\n",
    "        rword = reversed(word[i])\n",
    "        for j in rword:\n",
    "            print(j, end=\"\")\n",
    "        print(\"\", end=\"\")\n",
    "\n",
    "word = input()\n",
    "reversedword(word)"
   ]
  },
  {
   "cell_type": "code",
   "execution_count": 23,
   "id": "995387a5-3491-44f4-8215-15a334b2430a",
   "metadata": {},
   "outputs": [
    {
     "name": "stdin",
     "output_type": "stream",
     "text": [
      " aku senang bermain bola\n",
      " 4 2 1 3\n"
     ]
    },
    {
     "name": "stdout",
     "output_type": "stream",
     "text": [
      "bola senang aku bermain "
     ]
    }
   ],
   "source": [
    "def basedOnOrder(word, number):\n",
    "    word = word.split(\" \")\n",
    "    number = number.split(\" \")\n",
    "    number = list(map(int, number))\n",
    "    for i in number:\n",
    "        print(word[i-1], end=\" \")\n",
    "\n",
    "sentence = input()\n",
    "indeks = input()\n",
    "basedOnOrder(sentence, indeks)"
   ]
  },
  {
   "cell_type": "code",
   "execution_count": 27,
   "id": "52e73397-d5ed-44a2-8a6b-fade190aa5d3",
   "metadata": {},
   "outputs": [
    {
     "name": "stdin",
     "output_type": "stream",
     "text": [
      "Masukan Kalimat: aku ingin bernyanyi\n",
      "Masukan Pilihan (1-2): 2\n"
     ]
    },
    {
     "name": "stdout",
     "output_type": "stream",
     "text": [
      "4k|_| 1ng1n b3rny4ny1\n"
     ]
    }
   ],
   "source": [
    "def changeVokal(word, choose):\n",
    "    word = list(word)\n",
    "    if choose == 1:\n",
    "        for i in range(len(word)):\n",
    "            if word[i] == \"A\":\n",
    "                word[i] = \"4\"\n",
    "            elif word[i] == \"I\":\n",
    "                word[i] = \"1\"\n",
    "            elif word[i] == \"U\":\n",
    "                word[i] = \"|_|\"\n",
    "            elif word[i] == \"E\":\n",
    "                word[i] = \"3\"\n",
    "            elif word[i] == \"O\":\n",
    "                word[i] = \"0\"\n",
    " \n",
    "    elif choose == 2:\n",
    "        for i in range(len(word)):\n",
    "            if word[i] == \"a\":\n",
    "                word[i] = \"4\"\n",
    "            elif word[i] == \"i\":\n",
    "                word[i] = \"1\"\n",
    "            elif word[i] == \"u\":\n",
    "                word[i] = \"|_|\"\n",
    "            elif word[i] == \"e\":\n",
    "                word[i] = \"3\"\n",
    "            elif word[i] == \"o\":\n",
    "                word[i] = \"0\"\n",
    "    word = \"\".join(word)\n",
    "    print(word)\n",
    "\n",
    "word = input(\"Masukan Kalimat:\")\n",
    "choose = int(input(\"Masukan Pilihan (1-2):\"))\n",
    "changeVokal(word,choose)"
   ]
  }
 ],
 "metadata": {
  "kernelspec": {
   "display_name": "Python [conda env:base] *",
   "language": "python",
   "name": "conda-base-py"
  },
  "language_info": {
   "codemirror_mode": {
    "name": "ipython",
    "version": 3
   },
   "file_extension": ".py",
   "mimetype": "text/x-python",
   "name": "python",
   "nbconvert_exporter": "python",
   "pygments_lexer": "ipython3",
   "version": "3.12.7"
  }
 },
 "nbformat": 4,
 "nbformat_minor": 5
}
