{
 "cells": [
  {
   "cell_type": "markdown",
   "id": "3bdcc059",
   "metadata": {},
   "source": [
    "<h1>Operator Aritmatika</h1>"
   ]
  },
  {
   "cell_type": "code",
   "execution_count": 12,
   "id": "b93b72ff",
   "metadata": {},
   "outputs": [
    {
     "name": "stdout",
     "output_type": "stream",
     "text": [
      "Isikan Nilai X:50\n",
      "Isikan Nilai Y:3\n",
      "Hasil Penjumlahan 50 + 3 = 53\n",
      "Hasil Pengurangan 50 - 3 = 47\n",
      "Hasil Perkalian 50 * 3 = 47\n",
      "Hasil Pembagian 50 / 3 = 16.666666666666668\n",
      "Hasil Modulus 50 % 3 = 2\n",
      "Hasil Pengkat 50 ** 3 = 125000\n",
      "Hasil Pembulatan Bulat 50 // 3 = 16\n"
     ]
    }
   ],
   "source": [
    "x = input(\"Isikan Nilai X:\")\n",
    "y = input(\"Isikan Nilai Y:\")\n",
    "x = int(x)\n",
    "y = int(y)\n",
    "hasilTambah = x + y\n",
    "hasilKurang = x - y\n",
    "hasilKali = x * y\n",
    "hasilBagi = x / y\n",
    "hasilMod = x % y\n",
    "hasilPangkat = x ** y\n",
    "hasilDiv = x // y\n",
    "\n",
    "print(\"Hasil Penjumlahan\",x,\"+\",y,\"=\",hasilTambah)\n",
    "print(\"Hasil Pengurangan\",x,\"-\",y,\"=\",hasilKurang)\n",
    "print(\"Hasil Perkalian\",x,\"*\",y,\"=\",hasilKurang)\n",
    "print(\"Hasil Pembagian\",x,\"/\",y,\"=\",hasilBagi)\n",
    "print(\"Hasil Modulus\",x,\"%\",y,\"=\",hasilMod)\n",
    "print(\"Hasil Pengkat\",x,\"**\",y,\"=\",hasilPangkat)\n",
    "print(\"Hasil Pembulatan Bulat\",x,\"//\",y,\"=\",hasilDiv)"
   ]
  },
  {
   "cell_type": "markdown",
   "id": "16db90dc",
   "metadata": {},
   "source": [
    "<h1>Operator Penugasan</h1>"
   ]
  },
  {
   "cell_type": "code",
   "execution_count": 7,
   "id": "60840b76",
   "metadata": {},
   "outputs": [
    {
     "name": "stdout",
     "output_type": "stream",
     "text": [
      "Isikan Nilai Awal:10\n",
      "Nilai Awal : 10\n",
      "Setelah ditambah 3= 13\n",
      "Kemudian dikurang dengan 5= 8\n",
      "Selanjutnya dikali dengan 3= 24\n",
      "Proses terakhir dibagi dengan 2= 12.0\n"
     ]
    }
   ],
   "source": [
    "nilaiAwal = int(input(\"Isikan Nilai Awal:\"))\n",
    "\n",
    "print(\"Nilai Awal :\" ,nilaiAwal)\n",
    "nilaiAwal+=3\n",
    "print(\"Setelah ditambah 3=\",nilaiAwal)\n",
    "nilaiAwal-=5\n",
    "print(\"Kemudian dikurang dengan 5=\",nilaiAwal)\n",
    "nilaiAwal*=3\n",
    "print(\"Selanjutnya dikali dengan 3=\",nilaiAwal)\n",
    "nilaiAwal/=2\n",
    "print(\"Proses terakhir dibagi dengan 2=\",nilaiAwal)\n"
   ]
  },
  {
   "cell_type": "markdown",
   "id": "282070ba",
   "metadata": {},
   "source": [
    "<h1>Operator Pembandingan</h1>"
   ]
  },
  {
   "cell_type": "code",
   "execution_count": 13,
   "id": "0e3eef71",
   "metadata": {},
   "outputs": [
    {
     "name": "stdout",
     "output_type": "stream",
     "text": [
      "Isikan Nilai fVal :6\n",
      "Isikan NIlai sVal :6\n",
      "6 = 6 True\n",
      "6 ! 6 False\n",
      "6 > 6 False\n",
      "6 < 6 False\n",
      "6 >= 6 True\n",
      "6 <= 6 True\n"
     ]
    }
   ],
   "source": [
    "fVal = int(input(\"Isikan Nilai fVal :\"))\n",
    "sVal = int(input(\"Isikan NIlai sVal :\"))\n",
    "\n",
    "print(fVal,\"=\",sVal,fVal==sVal)\n",
    "print(fVal,\"!\",sVal,fVal!=sVal)\n",
    "print(fVal,\">\",sVal,fVal>sVal)\n",
    "print(fVal,\"<\",sVal,fVal<sVal)\n",
    "print(fVal,\">=\",sVal,fVal>=sVal)\n",
    "print(fVal,\"<=\",sVal,fVal<=sVal)\n",
    "\n",
    "\n",
    "\n",
    "\n",
    "\n"
   ]
  },
  {
   "cell_type": "markdown",
   "id": "587be120",
   "metadata": {},
   "source": [
    "<h1>Operator Logika</h1>"
   ]
  },
  {
   "cell_type": "code",
   "execution_count": 21,
   "id": "e1af9977",
   "metadata": {},
   "outputs": [
    {
     "name": "stdout",
     "output_type": "stream",
     "text": [
      "Isikan Bilangan 1:6\n",
      "Isikan Bilangan 2:6\n",
      "Bilangan 1: 6\n",
      "Bilangan 2: 6\n",
      "Apakah Bil. 1 mod 2 = 0 dan Bil. 2 lebih besar dari 3? True\n",
      "Apakah Bil. 1 mod 2 = 0 atau Bil. 2 lebih besar dari 3? True\n",
      "Apakah Bil. 1 mod 2 = 0 atau Bil. 2 lebih besar dari 3? False\n"
     ]
    }
   ],
   "source": [
    "num_1 = int(input(\"Isikan Bilangan 1:\"))\n",
    "num_2 = int(input(\"Isikan Bilangan 2:\"))\n",
    "\n",
    "print(\"Bilangan 1:\",num_1)\n",
    "print(\"Bilangan 2:\",num_2)\n",
    "\n",
    "print(\"Apakah Bil. 1 mod 2 = 0 dan Bil. 2 lebih besar dari 3?\",num_1 % 2==0 and num_2 > 3)\n",
    "print(\"Apakah Bil. 1 mod 2 = 0 atau Bil. 2 lebih besar dari 3?\",num_1 % 2==0 and num_2 > 3)\n",
    "print(\"Apakah Bil. 1 mod 2 = 0 atau Bil. 2 lebih besar dari 3?\",not(num_1 % 2==0 or num_2 > 3))\n",
    "      \n",
    "      \n",
    "\n",
    "\n"
   ]
  },
  {
   "cell_type": "markdown",
   "id": "62a35cfa",
   "metadata": {},
   "source": [
    "<h1>Operator Indentitas</h1>"
   ]
  },
  {
   "cell_type": "code",
   "execution_count": 27,
   "id": "220b9f5f",
   "metadata": {},
   "outputs": [
    {
     "name": "stdout",
     "output_type": "stream",
     "text": [
      "True\n",
      "False\n",
      "True\n",
      "Memory Address dari val1 2012002844592\n",
      "Memory Address dari val2 2011991992912\n",
      "Memory Address dari val3 2011991992912\n"
     ]
    },
    {
     "name": "stderr",
     "output_type": "stream",
     "text": [
      "<>:1: SyntaxWarning: \"is\" with a literal. Did you mean \"==\"?\n",
      "<>:1: SyntaxWarning: \"is\" with a literal. Did you mean \"==\"?\n",
      "C:\\Users\\komputer 10\\AppData\\Local\\Temp\\ipykernel_1364\\3690711953.py:1: SyntaxWarning: \"is\" with a literal. Did you mean \"==\"?\n",
      "  print(\"Andi\" is \"Andi\")\n"
     ]
    }
   ],
   "source": [
    "print(\"Andi\" is \"Andi\")\n",
    "val1 = \"10\"\n",
    "val2 = 10\n",
    "val3 = val2\n",
    "print(val1 is val2)\n",
    "print(val1 is not val2)\n",
    "\n",
    "print(\"Memory Address dari val1\",id(val1))\n",
    "print(\"Memory Address dari val2\",id(val2))\n",
    "print(\"Memory Address dari val3\",id(val3))\n",
    "\n",
    "\n"
   ]
  },
  {
   "cell_type": "markdown",
   "id": "add38d11",
   "metadata": {},
   "source": [
    "<h1>Operator Keanggotaan</h1>"
   ]
  },
  {
   "cell_type": "code",
   "execution_count": 33,
   "id": "a1fcb69f",
   "metadata": {},
   "outputs": [
    {
     "name": "stdout",
     "output_type": "stream",
     "text": [
      "False\n",
      "True\n"
     ]
    }
   ],
   "source": [
    "find = \"Samsul\"\n",
    "daftarMahasiswa = [\"Rudi\",\"Kamil\",\"Ojol\",\"Imot\"]\n",
    "\n",
    "print(find in daftarMahasiswa)\n",
    "print(find not in daftarMahasiswa)"
   ]
  },
  {
   "cell_type": "markdown",
   "id": "68fb0821",
   "metadata": {},
   "source": [
    "<h1>Operator Bitwise</h1>"
   ]
  },
  {
   "cell_type": "code",
   "execution_count": 35,
   "id": "b32c682d",
   "metadata": {},
   "outputs": [
    {
     "name": "stdout",
     "output_type": "stream",
     "text": [
      "Isikan Nilai 1 :64\n",
      "Isikan Nilai 2 :3\n",
      "0\n",
      "67\n",
      "67\n",
      "512\n",
      "8\n"
     ]
    }
   ],
   "source": [
    "desimal1 = int(input(\"Isikan Nilai 1 :\"))\n",
    "desimal2 = int(input(\"Isikan Nilai 2 :\"))\n",
    "\n",
    "print(desimal1 & desimal2)\n",
    "print(desimal1 | desimal2)\n",
    "print(desimal1 ^ desimal2)\n",
    "print(desimal1 << desimal2)\n",
    "print(desimal1 >> desimal2)\n"
   ]
  },
  {
   "cell_type": "code",
   "execution_count": null,
   "id": "70e1f7df",
   "metadata": {},
   "outputs": [],
   "source": []
  }
 ],
 "metadata": {
  "kernelspec": {
   "display_name": "Python 3 (ipykernel)",
   "language": "python",
   "name": "python3"
  },
  "language_info": {
   "codemirror_mode": {
    "name": "ipython",
    "version": 3
   },
   "file_extension": ".py",
   "mimetype": "text/x-python",
   "name": "python",
   "nbconvert_exporter": "python",
   "pygments_lexer": "ipython3",
   "version": "3.9.12"
  }
 },
 "nbformat": 4,
 "nbformat_minor": 5
}
