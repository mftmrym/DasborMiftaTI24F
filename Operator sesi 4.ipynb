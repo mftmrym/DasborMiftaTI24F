{
 "cells": [
  {
   "cell_type": "code",
   "execution_count": null,
   "id": "3279f611",
   "metadata": {},
   "outputs": [],
   "source": [
    "x = 10\n",
    "y = 20\n",
    "\n",
    "hasilTambah = x + y\n",
    "hasilKurang = x - y\n",
    "hasilKali = x * y\n",
    "hasilBagi = x / y\n",
    "hasilMod = x % y\n",
    "hasilPangkat = x ** y\n",
    "hasilDiv = x // y\n",
    "\n",
    "print(\"Hasil Penjumlahan\",x,\"+\",y,\"=\",hasilTambah)\n",
    "print(\"Hasil Pengurangan\",x,\"-\",y,\"=\",hasilKurang)\n",
    "print(\"Hasil Perkalian\",x,\"*\",y,\"=\",hasilKurang)\n",
    "print(\"Hasil Pembagian\",x,\"/\",y,\"=\",hasilBagi)\n",
    "print(\"Hasil Modulus\",x,\"%\",y,\"=\",hasilMod)\n",
    "print(\"Hasil Pengkat\",x,\"**\",y,\"=\",hasilPangkat)\n",
    "print(\"Hasil Pembulatan Bulat\",x,\"//\",y,\"=\",hasilTa)"
   ]
  }
 ],
 "metadata": {
  "kernelspec": {
   "display_name": "Python 3 (ipykernel)",
   "language": "python",
   "name": "python3"
  },
  "language_info": {
   "codemirror_mode": {
    "name": "ipython",
    "version": 3
   },
   "file_extension": ".py",
   "mimetype": "text/x-python",
   "name": "python",
   "nbconvert_exporter": "python",
   "pygments_lexer": "ipython3",
   "version": "3.9.12"
  }
 },
 "nbformat": 4,
 "nbformat_minor": 5
}
