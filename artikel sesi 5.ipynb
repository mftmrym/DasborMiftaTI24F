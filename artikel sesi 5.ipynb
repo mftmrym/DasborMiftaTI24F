{
 "cells": [
  {
   "cell_type": "markdown",
   "id": "e2fdd950",
   "metadata": {},
   "source": [
    "<h3>input</h3>"
   ]
  },
  {
   "cell_type": "code",
   "execution_count": 10,
   "id": "72a0dfe9",
   "metadata": {},
   "outputs": [
    {
     "name": "stdout",
     "output_type": "stream",
     "text": [
      "Masukkan nama Anda: miftamifta\n",
      "Nama Anda adalah mifta\n"
     ]
    }
   ],
   "source": [
    "name = input(\"Masukkan nama Anda: mifta\")\n",
    "print(\"Nama Anda adalah\", name)\n"
   ]
  },
  {
   "cell_type": "code",
   "execution_count": 23,
   "id": "79a56931",
   "metadata": {},
   "outputs": [
    {
     "name": "stdout",
     "output_type": "stream",
     "text": [
      "Masukkan nama Anda: miftamifta\n",
      "Nama Anda adalah Mifta\n"
     ]
    }
   ],
   "source": [
    "input(\"Masukkan nama Anda: mifta\")\n",
    "print (\"Nama Anda adalah\", name)"
   ]
  },
  {
   "cell_type": "code",
   "execution_count": 8,
   "id": "f10ec532",
   "metadata": {},
   "outputs": [
    {
     "name": "stdout",
     "output_type": "stream",
     "text": [
      "Masukkan nama Anda: hallo mifta\n",
      "Halo, hallo mifta\n"
     ]
    }
   ],
   "source": [
    "# Program untuk meminta nama pengguna\n",
    "name = input(\"Masukkan nama Anda: \")\n",
    "print(\"Halo, \" + name)\n"
   ]
  },
  {
   "cell_type": "code",
   "execution_count": 10,
   "id": "00644ed2",
   "metadata": {},
   "outputs": [
    {
     "name": "stdout",
     "output_type": "stream",
     "text": [
      "Masukkan angka: 13\n",
      "Angka yang Anda masukkan adalah: 13\n"
     ]
    }
   ],
   "source": [
    "# Program untuk mengambil angka\n",
    "number = input(\"Masukkan angka: \")\n",
    "number = int(number)  # Mengonversi input ke integer\n",
    "print(\"Angka yang Anda masukkan adalah:\", number)\n"
   ]
  },
  {
   "cell_type": "code",
   "execution_count": 11,
   "id": "f05023f1",
   "metadata": {},
   "outputs": [
    {
     "name": "stdout",
     "output_type": "stream",
     "text": [
      "Masukkan angka desimal: 13\n",
      "Angka desimal yang Anda masukkan adalah: 13.0\n"
     ]
    }
   ],
   "source": [
    "# Program untuk mengambil angka desimal\n",
    "decimal_number = input(\"Masukkan angka desimal: \")\n",
    "decimal_number = float(decimal_number)  # Mengonversi input ke float\n",
    "print(\"Angka desimal yang Anda masukkan adalah:\", decimal_number)\n"
   ]
  },
  {
   "cell_type": "code",
   "execution_count": 18,
   "id": "ce62b9d7",
   "metadata": {},
   "outputs": [
    {
     "ename": "NameError",
     "evalue": "name 'Mifta' is not defined",
     "output_type": "error",
     "traceback": [
      "\u001b[1;31m---------------------------------------------------------------------------\u001b[0m",
      "\u001b[1;31mNameError\u001b[0m                                 Traceback (most recent call last)",
      "Input \u001b[1;32mIn [18]\u001b[0m, in \u001b[0;36m<cell line: 2>\u001b[1;34m()\u001b[0m\n\u001b[0;32m      1\u001b[0m \u001b[38;5;66;03m# Program untuk mengambil beberapa input\u001b[39;00m\n\u001b[1;32m----> 2\u001b[0m name \u001b[38;5;241m=\u001b[39m \u001b[43mMifta\u001b[49m\n\u001b[0;32m      3\u001b[0m age \u001b[38;5;241m=\u001b[39m \u001b[38;5;241m19\u001b[39m \n\u001b[0;32m      4\u001b[0m \u001b[38;5;28minput\u001b[39m(\u001b[38;5;124m\"\u001b[39m\u001b[38;5;124mNama Mifta dan Umur 19(pisahkan dengan spasi): \u001b[39m\u001b[38;5;124m\"\u001b[39m)\u001b[38;5;241m.\u001b[39msplit()\n",
      "\u001b[1;31mNameError\u001b[0m: name 'Mifta' is not defined"
     ]
    }
   ],
   "source": [
    "# Program untuk mengambil beberapa input\n",
    "name = Mifta\n",
    "age = 19\n",
    "\n",
    "input(\"Masukkan Nama dan Umur Anda (pisahkan dengan spasi): \").split()\n",
    "print(\"Nama Anda adalah\", Mifta)\n",
    "print(\"Umur Anda adalah\", 19)\n"
   ]
  },
  {
   "cell_type": "code",
   "execution_count": null,
   "id": "bcfb4917",
   "metadata": {},
   "outputs": [],
   "source": [
    "# Program untuk mengambil beberapa input\n",
    "name, age = input(\"Masukkan Nama dan Umur Anda (pisahkan dengan spasi): \").split()\n",
    "print(\"Nama Anda adalah\", Mifta)\n",
    "print(\"Umur Anda adalah\", 19)\n"
   ]
  },
  {
   "cell_type": "code",
   "execution_count": null,
   "id": "c2dff360",
   "metadata": {},
   "outputs": [],
   "source": [
    "# Program untuk mengambil beberapa input\n",
    "name = Mifta\n",
    "age = 19\n",
    "\n",
    "input(\"Masukkan Nama dan Umur Anda (pisahkan dengan spasi): \").split( Nama Mifta dan Umur 19 )\n",
    "print(\"Nama Anda adalah\", mifta)\n",
    "print(\"Umur Anda adalah\", 19)\n"
   ]
  },
  {
   "cell_type": "code",
   "execution_count": 2,
   "id": "c0184a85",
   "metadata": {},
   "outputs": [
    {
     "ename": "SyntaxError",
     "evalue": "invalid syntax (474059207.py, line 2)",
     "output_type": "error",
     "traceback": [
      "\u001b[1;36m  Input \u001b[1;32mIn [2]\u001b[1;36m\u001b[0m\n\u001b[1;33m    name, age = input(\"Masukkan Nama dan Umur Anda (pisahkan dengan spasi): \").split(Nama Mifta dan Umur 19)\u001b[0m\n\u001b[1;37m                                                                                          ^\u001b[0m\n\u001b[1;31mSyntaxError\u001b[0m\u001b[1;31m:\u001b[0m invalid syntax\n"
     ]
    }
   ],
   "source": [
    "# Program untuk mengambil beberapa input\n",
    "name, age = input(\"Masukkan Nama dan Umur Anda (pisahkan dengan spasi): \").split(Nama Mifta dan Umur 19)\n",
    "print(\"Nama Anda adalah\", mifta)\n",
    "print(\"Umur Anda adalah\", 19)\n"
   ]
  },
  {
   "cell_type": "code",
   "execution_count": null,
   "id": "4ef5c20b",
   "metadata": {},
   "outputs": [
    {
     "name": "stdout",
     "output_type": "stream",
     "text": [
      "Masukkan umur Anda: Input tidak valid, harap masukkan angka. Masukkan umur Anda: abc Masukkan umur Anda: 25 Umur Anda adalah: 25\n",
      "Input tidak valid, harap masukkan angka.\n"
     ]
    }
   ],
   "source": [
    "# Program dengan validasi input\n",
    "while True:\n",
    "    try:\n",
    "        age = int(input(\"Masukkan umur Anda: \"))\n",
    "        break  # Keluar dari loop jika input valid\n",
    "    except ValueError:\n",
    "        print(\"Input tidak valid, harap masukkan angka.\")\n",
    "        \n",
    "print(\"Umur Anda adalah:\", age)\n"
   ]
  },
  {
   "cell_type": "code",
   "execution_count": null,
   "id": "aa8f3a95",
   "metadata": {},
   "outputs": [],
   "source": [
    "Input tidak valid, harap masukkan angka.\n",
    "Masukkan umur Anda: abc\n",
    "Masukkan umur Anda: 25\n",
    "Umur Anda adalah: 25\n"
   ]
  },
  {
   "cell_type": "code",
   "execution_count": null,
   "id": "d048b70c",
   "metadata": {},
   "outputs": [],
   "source": [
    "# Program untuk menghitung luas lingkaran\n",
    "radius = float(input(\"Masukkan radius lingkaran: \"))\n",
    "area = 3.14 * radius * radius  # Menghitung luas\n",
    "print(f\"Luas lingkaran dengan radius {radius} adalah {area}\")\n"
   ]
  },
  {
   "cell_type": "code",
   "execution_count": null,
   "id": "695afe50",
   "metadata": {},
   "outputs": [],
   "source": [
    "Luas lingkaran dengan radius 5.0 adalah 78.5\n"
   ]
  }
 ],
 "metadata": {
  "kernelspec": {
   "display_name": "Python 3 (ipykernel)",
   "language": "python",
   "name": "python3"
  },
  "language_info": {
   "codemirror_mode": {
    "name": "ipython",
    "version": 3
   },
   "file_extension": ".py",
   "mimetype": "text/x-python",
   "name": "python",
   "nbconvert_exporter": "python",
   "pygments_lexer": "ipython3",
   "version": "3.9.12"
  }
 },
 "nbformat": 4,
 "nbformat_minor": 5
}
