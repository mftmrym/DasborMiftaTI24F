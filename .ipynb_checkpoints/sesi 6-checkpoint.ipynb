{
 "cells": [
  {
   "cell_type": "code",
   "execution_count": 2,
   "id": "3642efd8",
   "metadata": {},
   "outputs": [
    {
     "ename": "IndentationError",
     "evalue": "expected an indented block (32598621.py, line 4)",
     "output_type": "error",
     "traceback": [
      "\u001b[1;36m  Input \u001b[1;32mIn [2]\u001b[1;36m\u001b[0m\n\u001b[1;33m    if usia <= 12:\u001b[0m\n\u001b[1;37m    ^\u001b[0m\n\u001b[1;31mIndentationError\u001b[0m\u001b[1;31m:\u001b[0m expected an indented block\n"
     ]
    }
   ],
   "source": [
    "usia = int(input(\"Isikan Umur Anda :\"))\n",
    "\n",
    "if usia >=0:\n",
    "if usia <= 12:\n",
    "    print(\"Katagori : Anak\")\n",
    "    elif usia <= 17:\n",
    "        print(\"Katagori : Remaja\")\n",
    "    elif usia <= 59:\n",
    "        print(\"Katagori : Dewasa\")\n",
    "    elif :\n",
    "        print(\"Katagori : Lansia\")"
   ]
  },
  {
   "cell_type": "code",
   "execution_count": null,
   "id": "ef002d73",
   "metadata": {},
   "outputs": [],
   "source": []
  }
 ],
 "metadata": {
  "kernelspec": {
   "display_name": "Python 3 (ipykernel)",
   "language": "python",
   "name": "python3"
  },
  "language_info": {
   "codemirror_mode": {
    "name": "ipython",
    "version": 3
   },
   "file_extension": ".py",
   "mimetype": "text/x-python",
   "name": "python",
   "nbconvert_exporter": "python",
   "pygments_lexer": "ipython3",
   "version": "3.9.12"
  }
 },
 "nbformat": 4,
 "nbformat_minor": 5
}
