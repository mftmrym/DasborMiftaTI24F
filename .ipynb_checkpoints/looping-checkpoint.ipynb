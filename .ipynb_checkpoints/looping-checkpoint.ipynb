{
 "cells": [
  {
   "cell_type": "markdown",
   "id": "40607a71",
   "metadata": {},
   "source": [
    "<h2> for looping <h2/>"
   ]
  },
  {
   "cell_type": "code",
   "execution_count": 2,
   "id": "b6b256ee",
   "metadata": {},
   "outputs": [
    {
     "name": "stdout",
     "output_type": "stream",
     "text": [
      "Nama Buah :apel\n",
      "Nama Buah :Banana\n",
      "Nama Buah :Watermelon\n",
      "Nama Buah :Pineaplle\n"
     ]
    }
   ],
   "source": [
    "fruits = [\"apel\",\"Banana\",\"Watermelon\",\"Pineaplle\"]\n",
    "for fruit in fruits:\n",
    "    print(f\"Nama Buah :{fruit}\")\n",
    "    "
   ]
  },
  {
   "cell_type": "code",
   "execution_count": 9,
   "id": "e095e1d2",
   "metadata": {},
   "outputs": [
    {
     "name": "stdout",
     "output_type": "stream",
     "text": [
      "Nilai Rata-rata : 71.42857142857143\n"
     ]
    }
   ],
   "source": [
    "#contoh:\n",
    "#kelas TI24F punya data nilai pemograman python 80,100,90,70,70,50,40\n",
    "#Carilah nilai rata-rata nilai pemograman python di kelas TI24F \n",
    "\n",
    "nilaiPython = [80,100,90,70,70,50,40]\n",
    "total = 0\n",
    "for nilai in nilaiPython:\n",
    "    total += nilai\n",
    "    \n",
    "rata2 = total / len(nilaiPython)\n",
    "print(f\"Nilai Rata-rata : {rata2}\")"
   ]
  },
  {
   "cell_type": "code",
   "execution_count": 11,
   "id": "1bfe7b64",
   "metadata": {},
   "outputs": [
    {
     "name": "stdout",
     "output_type": "stream",
     "text": [
      "0 : Jan\n",
      "1 : Feb\n",
      "2 : mar\n",
      "3 : Apr\n",
      "4 : May\n",
      "5 : Jun\n",
      "6 : Jul\n",
      "7 : Aug\n",
      "8 : Sep\n",
      "9 : Okt\n",
      "10 : Nov\n",
      "11 : Des\n"
     ]
    }
   ],
   "source": [
    "#Enumerate\n",
    "month = [\"Jan\",\"Feb\",\"mar\",\"Apr\",\"May\",\"Jun\",\"Jul\",\"Aug\",\"Sep\",\"Okt\",\"Nov\",\"Des\"]\n",
    "for i, m in enumerate(month):\n",
    "    print(f\"{i} : {m}\")"
   ]
  },
  {
   "cell_type": "code",
   "execution_count": 16,
   "id": "4b25b913",
   "metadata": {},
   "outputs": [
    {
     "name": "stdout",
     "output_type": "stream",
     "text": [
      "Isikan Nama KampusUniversitas Nusa Putra\n",
      "U) adalah HUruf Vokal |Total:1\n",
      "n) adalah Bukan Huruf Vokal |Total:1\n",
      "i) adalah HUruf Vokal |Total:2\n",
      "v) adalah Bukan Huruf Vokal |Total:2\n",
      "e) adalah HUruf Vokal |Total:3\n",
      "r) adalah Bukan Huruf Vokal |Total:3\n",
      "s) adalah Bukan Huruf Vokal |Total:3\n",
      "i) adalah HUruf Vokal |Total:4\n",
      "t) adalah Bukan Huruf Vokal |Total:4\n",
      "a) adalah HUruf Vokal |Total:5\n",
      "s) adalah Bukan Huruf Vokal |Total:5\n",
      " ) adalah Bukan Huruf Vokal |Total:5\n",
      "N) adalah Bukan Huruf Vokal |Total:5\n",
      "u) adalah HUruf Vokal |Total:6\n",
      "s) adalah Bukan Huruf Vokal |Total:6\n",
      "a) adalah HUruf Vokal |Total:7\n",
      " ) adalah Bukan Huruf Vokal |Total:7\n",
      "P) adalah Bukan Huruf Vokal |Total:7\n",
      "u) adalah HUruf Vokal |Total:8\n",
      "t) adalah Bukan Huruf Vokal |Total:8\n",
      "r) adalah Bukan Huruf Vokal |Total:8\n",
      "a) adalah HUruf Vokal |Total:9\n",
      "Jumlah Total Huruf Vokal : 9\n"
     ]
    }
   ],
   "source": [
    "kampus = input(\"Isikan Nama Kampus\")\n",
    "listVokal = [\"a\",\"i\",\"u\",\"e\",\"o\",\"A\",\"I\",\"U\",\"E\",\"O\"]\n",
    "total = 0\n",
    "for karakter in kampus:\n",
    "    if karakter in listVokal:\n",
    "        total +=1\n",
    "        isVokal = \"HUruf Vokal\"\n",
    "    else:\n",
    "        isVokal = \"Bukan Huruf Vokal\"\n",
    "    print(f\"{karakter}) adalah {isVokal} |Total:{total}\") #berapa banyak \n",
    "print(f\"Jumlah Total Huruf Vokal : {total}\")"
   ]
  },
  {
   "cell_type": "code",
   "execution_count": 17,
   "id": "bd4f833e",
   "metadata": {},
   "outputs": [
    {
     "name": "stdout",
     "output_type": "stream",
     "text": [
      "[1, 4, 9, 16, 25]\n"
     ]
    }
   ],
   "source": [
    "#looping list Comprehension\n",
    "data = [1,2,3,4,5]\n",
    "pangkat = [x**2 for x in data]\n",
    "print(pangkat)"
   ]
  },
  {
   "cell_type": "code",
   "execution_count": 3,
   "id": "c9bca113",
   "metadata": {},
   "outputs": [
    {
     "name": "stdout",
     "output_type": "stream",
     "text": [
      "Nilai i adalah:0\n",
      "Nilai i adalah:1\n",
      "Nilai i adalah:2\n",
      "Nilai i adalah:3\n",
      "Nilai i adalah:4\n"
     ]
    }
   ],
   "source": [
    "#Range\n",
    "for i in range(5):\n",
    "    print(f\"Nilai i adalah:{i}\")"
   ]
  },
  {
   "cell_type": "code",
   "execution_count": 5,
   "id": "b56fcea0",
   "metadata": {},
   "outputs": [
    {
     "name": "stdout",
     "output_type": "stream",
     "text": [
      "Nilai j : 6\n",
      "Nilai j : 7\n"
     ]
    }
   ],
   "source": [
    "for j in range(6,8):\n",
    "    print(f\"Nilai j : {j}\")"
   ]
  },
  {
   "cell_type": "code",
   "execution_count": 18,
   "id": "e2734c05",
   "metadata": {},
   "outputs": [
    {
     "name": "stdout",
     "output_type": "stream",
     "text": [
      "Isikan Bilangan:4\n",
      "4 adalah bukan prima\n"
     ]
    }
   ],
   "source": [
    "#Cek bilangan prima atau bukan prima\n",
    "number = int(input(\"Isikan Bilangan:\"))\n",
    "faktor = 0\n",
    "for i in range (1,number+1):\n",
    "    if number % i == 0:\n",
    "        faktor +=1\n",
    "if faktor == 2:\n",
    "    print(f\"{number} adalah Bilangan Prima\")\n",
    "else:\n",
    "    print(f\"{number} adalah bukan prima\")"
   ]
  },
  {
   "cell_type": "code",
   "execution_count": 26,
   "id": "7db7b65b",
   "metadata": {},
   "outputs": [
    {
     "name": "stdout",
     "output_type": "stream",
     "text": [
      "Isikan Bilangan:13\n",
      "13! = 6227020800\n"
     ]
    }
   ],
   "source": [
    "#Faktorial\n",
    "# 3! = 3 * 2 * 1 = 6\n",
    "# 4! = 4 * 3 * 2 * 1 = 24\n",
    "total = 1\n",
    "number = int(input(\"Isikan Bilangan:\"))\n",
    "for i in range(1,number+1):\n",
    "    total *= i \n",
    "print(f\"{number}! = {total}\")\n"
   ]
  },
  {
   "cell_type": "code",
   "execution_count": 29,
   "id": "387b4422",
   "metadata": {},
   "outputs": [
    {
     "name": "stdout",
     "output_type": "stream",
     "text": [
      "Isikan Bilangan:13\n",
      "1 -2 3 -4 5 -6 7 -8 9 -10 11 -12 13 "
     ]
    }
   ],
   "source": [
    "# 1 -2 3 -4 5 -6 7 -8 9 -10\n",
    "number = int(input(\"Isikan Bilangan:\"))\n",
    "sign = 1\n",
    "for i in range (1,number+1):\n",
    "    result = sign * i\n",
    "    print(f\"{result} \",end='')\n",
    "    sign *= -1"
   ]
  },
  {
   "cell_type": "code",
   "execution_count": 35,
   "id": "200811d9",
   "metadata": {},
   "outputs": [
    {
     "name": "stdout",
     "output_type": "stream",
     "text": [
      "Jumlah penonton Laki-laki:5\n",
      "Jumlah penonton Perempuan:5\n"
     ]
    }
   ],
   "source": [
    "kursiBioskop = [\"L\",\"P\",\"L\",\"P\",\"L\",\"P\",\"L\",\"P\",\"L\"]\n",
    "#Hitung jumlah penonton Laki-laki\n",
    "#Hitung jumlah penonton Perempuan\n",
    "\n",
    "totalLaki = 0\n",
    "for jenis in kursiBioskop:\n",
    "    if jenis ==\"L\":\n",
    "        totalLaki +=1\n",
    "print(f\"Jumlah penonton Laki-laki:{totalLaki}\")\n",
    "print(f\"Jumlah penonton Perempuan:{len(kursiBioskop)-totalLaki}\")\n",
    "        \n",
    "    "
   ]
  },
  {
   "cell_type": "code",
   "execution_count": 40,
   "id": "0de59b84",
   "metadata": {},
   "outputs": [
    {
     "name": "stdout",
     "output_type": "stream",
     "text": [
      "Jumlah Couple:4\n"
     ]
    }
   ],
   "source": [
    "#hitung jumlah orang yang kemungkinan berpasangan\n",
    "\n",
    "kursi = [\"L\",\"P\",\"P\",\"L\",\"L\",\"P\",\"L\",]\n",
    "couple = 0\n",
    "for i in range(len(kursi)-1):\n",
    "    if kursi [i] != kursi[i+1]:\n",
    "        couple+=1\n",
    "print(f\"Jumlah Couple:{couple}\")\n"
   ]
  },
  {
   "cell_type": "code",
   "execution_count": 41,
   "id": "60ca4498",
   "metadata": {},
   "outputs": [
    {
     "name": "stdout",
     "output_type": "stream",
     "text": [
      "fname : Oren\n",
      "Iname : ayen\n"
     ]
    }
   ],
   "source": [
    "data = {\n",
    "    \"fname\" : \"Oren\",\n",
    "    \"Iname\" : \"ayen\"\n",
    "}\n",
    "for key,value in data.items():\n",
    "    print(f\"{key} : {value}\")"
   ]
  }
 ],
 "metadata": {
  "kernelspec": {
   "display_name": "Python 3 (ipykernel)",
   "language": "python",
   "name": "python3"
  },
  "language_info": {
   "codemirror_mode": {
    "name": "ipython",
    "version": 3
   },
   "file_extension": ".py",
   "mimetype": "text/x-python",
   "name": "python",
   "nbconvert_exporter": "python",
   "pygments_lexer": "ipython3",
   "version": "3.9.12"
  }
 },
 "nbformat": 4,
 "nbformat_minor": 5
}
