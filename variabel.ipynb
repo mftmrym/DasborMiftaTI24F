{
 "cells": [
  {
   "cell_type": "code",
   "execution_count": 1,
   "id": "63ac576d",
   "metadata": {},
   "outputs": [
    {
     "name": "stdout",
     "output_type": "stream",
     "text": [
      "Nama : bayu\n",
      "Umur : 25\n",
      "Alamat : jl.bulakkapal\n",
      "Provinsi : 7413412\n",
      "Nilai pemrograman : 90.5\n",
      "Status Menikah : False\n"
     ]
    }
   ],
   "source": [
    "name = \"bayu\"\n",
    "age = 25\n",
    "address,province = \"jl.bulakkapal\",\"7413412\"\n",
    "pythonScore = 90.5\n",
    "isMarried = False\n",
    "\n",
    "print(\"Nama :\",name)\n",
    "print(\"Umur :\",age)\n",
    "print(\"Alamat :\",address)\n",
    "print(\"Provinsi :\",province)\n",
    "print(\"Nilai pemrograman :\",pythonScore)\n",
    "print(\"Status Menikah :\",isMarried)"
   ]
  },
  {
   "cell_type": "code",
   "execution_count": 2,
   "id": "a8554d43",
   "metadata": {},
   "outputs": [
    {
     "name": "stdout",
     "output_type": "stream",
     "text": [
      "Tipe Data (nama) : <class 'str'>\n",
      "Tipe Data (age) : <class 'int'>\n",
      "Tipe Data (address) : <class 'str'>\n",
      "Tipe Data (province) : <class 'str'>\n",
      "Tipe Data (scorePython) : <class 'float'>\n",
      "Tipe Data (isMarried) : <class 'bool'>\n"
     ]
    }
   ],
   "source": [
    "print(\"Tipe Data (nama) :\",type(name))\n",
    "print(\"Tipe Data (age) :\",type(age))\n",
    "print(\"Tipe Data (address) :\",type(address))\n",
    "print(\"Tipe Data (province) :\",type(province))\n",
    "print(\"Tipe Data (scorePython) :\",type(pythonScore))\n",
    "print(\"Tipe Data (isMarried) :\",type(isMarried))\n",
    "\n",
    "\n",
    "\n",
    "\n"
   ]
  },
  {
   "cell_type": "code",
   "execution_count": 3,
   "id": "6489acb6",
   "metadata": {},
   "outputs": [
    {
     "name": "stdout",
     "output_type": "stream",
     "text": [
      "7413412 7413412 True\n"
     ]
    }
   ],
   "source": [
    "#Casting atau Konversi Tipe Data\n",
    "\n",
    "strToInt = int(province)\n",
    "strToFloat = float(province)\n",
    "strToBool = bool(province)\n",
    "print(strToInt,strToInt,strToBool)\n",
    "\n"
   ]
  },
  {
   "cell_type": "code",
   "execution_count": 4,
   "id": "557333f0",
   "metadata": {},
   "outputs": [
    {
     "name": "stdout",
     "output_type": "stream",
     "text": [
      "25 25.0 True\n"
     ]
    }
   ],
   "source": [
    "#Casting\n",
    "\n",
    "intTostr = str(age)\n",
    "intToFloat = float(age)\n",
    "intToBool = bool(age)\n",
    "print(intTostr,intToFloat,intToBool)\n"
   ]
  },
  {
   "cell_type": "code",
   "execution_count": 5,
   "id": "e2e47025",
   "metadata": {},
   "outputs": [
    {
     "name": "stdout",
     "output_type": "stream",
     "text": [
      "90.5 90 True\n"
     ]
    }
   ],
   "source": [
    "#Casing\n",
    "\n",
    "floatTostr = str(pythonScore)\n",
    "floatToint = int(pythonScore)\n",
    "floatToBool = bool(pythonScore)\n",
    "print(floatTostr,floatToint,floatToBool)\n"
   ]
  },
  {
   "cell_type": "code",
   "execution_count": 6,
   "id": "81fb6187",
   "metadata": {},
   "outputs": [
    {
     "name": "stdout",
     "output_type": "stream",
     "text": [
      "0 False 0.0\n"
     ]
    }
   ],
   "source": [
    "#casing\n",
    "\n",
    "boolToint = int(isMarried)\n",
    "boolTostr = str(isMarried)\n",
    "boolTofloat = float(isMarried)\n",
    "print(boolToint,boolTostr,boolTofloat)\n"
   ]
  },
  {
   "cell_type": "code",
   "execution_count": 7,
   "id": "2c000190",
   "metadata": {},
   "outputs": [
    {
     "name": "stdout",
     "output_type": "stream",
     "text": [
      "k\n",
      "i\n"
     ]
    }
   ],
   "source": [
    "#String adalah kumpulan dari beberapa karakter dari immutable\n",
    "city = \"kotabekasi\"\n",
    "panjang = len(city)\n",
    "print(city[0])\n",
    "print(city[panjang-1])\n"
   ]
  },
  {
   "cell_type": "code",
   "execution_count": 8,
   "id": "914da128",
   "metadata": {},
   "outputs": [
    {
     "name": "stdout",
     "output_type": "stream",
     "text": [
      "Nilai desimal: 500\n",
      "Nilai biner: 15\n",
      "Nilai octal: 255\n",
      "Nilai hexa: 255\n",
      "0b111110100\n",
      "0o764\n",
      "0x1f4\n"
     ]
    }
   ],
   "source": [
    "desimal = 500\n",
    "biner = 0b1111\n",
    "octal = 0o377\n",
    "hexa = 0xff\n",
    "\n",
    "print(\"Nilai desimal:\",desimal)\n",
    "print(\"Nilai biner:\",biner)\n",
    "print(\"Nilai octal:\",octal)\n",
    "print(\"Nilai hexa:\",hexa)\n",
    "\n",
    "print(bin(desimal))\n",
    "print(oct(desimal))\n",
    "print(hex(desimal))"
   ]
  },
  {
   "cell_type": "code",
   "execution_count": 22,
   "id": "0eb7c360",
   "metadata": {},
   "outputs": [
    {
     "name": "stdout",
     "output_type": "stream",
     "text": [
      "['Sukabumi', 'Malang', 'Bandung', 'Surabaya']\n",
      "Sukabumi\n",
      "Surabaya\n",
      "['Sukabumi', 'Jakarta', 'Bandung', 'Surabaya']\n",
      "('basket', 'ngaji', 'sholawat')\n",
      "basket\n",
      "[{'name': 'mifta', 'age': 20, 'address': {'street': 'jl.Cibolang Kaleng', 'number': 34, 'province': 'Kab.Sukabumi'}}, {'name': 'mifta', 'age': 20, 'address': {'street': 'jl.Cibolang Kaleng', 'number': 44, 'province': 'Kab.Sukabumi'}}]\n",
      "{'name': 'mifta', 'age': 20, 'address': {'street': 'jl.Cibolang Kaleng', 'number': 34, 'province': 'Kab.Sukabumi'}}\n"
     ]
    }
   ],
   "source": [
    "#Tipe data Collection\n",
    "cities = [\"Sukabumi\",\"Malang\",\"Bandung\",\"Surabaya\"]\n",
    "print(cities)\n",
    "print(cities[0])\n",
    "print(cities[len(cities)-1])\n",
    "cities[1] = \"Jakarta\"\n",
    "print(cities)\n",
    "\n",
    "hobbies = (\"basket\",\"ngaji\",\"sholawat\")\n",
    "print(hobbies)\n",
    "print(hobbies[0])\n",
    "#hobbies[0] =\"watching Netflix\" error program\n",
    "studentlist =[\n",
    "    { \n",
    "    \"name\": \"mifta\",\n",
    "    \"age\": 20,\n",
    "    \"address\" :{\n",
    "        \"street\":\"jl.Cibolang Kaleng\",\n",
    "        \"number\":34,\n",
    "        \"province\": \"Kab.Sukabumi\"  \n",
    "        \n",
    "        }\n",
    "    \n",
    "    },\n",
    "    { \n",
    "    \"name\": \"mifta\",\n",
    "    \"age\": 20,\n",
    "    \"address\" :{\n",
    "        \"street\":\"jl.Cibolang Kaleng\",\n",
    "        \"number\":44,\n",
    "        \"province\": \"Kab.Sukabumi\"  \n",
    "        \n",
    "        }\n",
    "    \n",
    "    }\n",
    "]\n",
    "\n",
    "    \n",
    "    \n",
    "    \n",
    "            \n",
    "print(studentlist)\n",
    "print(studentlist[0])\n",
    "\n",
    "\n",
    "\n",
    "            "
   ]
  },
  {
   "cell_type": "code",
   "execution_count": null,
   "id": "d8c47ecc",
   "metadata": {},
   "outputs": [],
   "source": []
  }
 ],
 "metadata": {
  "kernelspec": {
   "display_name": "Python 3 (ipykernel)",
   "language": "python",
   "name": "python3"
  },
  "language_info": {
   "codemirror_mode": {
    "name": "ipython",
    "version": 3
   },
   "file_extension": ".py",
   "mimetype": "text/x-python",
   "name": "python",
   "nbconvert_exporter": "python",
   "pygments_lexer": "ipython3",
   "version": "3.9.12"
  }
 },
 "nbformat": 4,
 "nbformat_minor": 5
}
