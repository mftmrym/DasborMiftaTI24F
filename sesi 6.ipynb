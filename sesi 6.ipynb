{
 "cells": [
  {
   "cell_type": "markdown",
   "id": "c5f1a1bf",
   "metadata": {},
   "source": [
    "<h4> 1 <h4/>"
   ]
  },
  {
   "cell_type": "code",
   "execution_count": 2,
   "id": "3642efd8",
   "metadata": {},
   "outputs": [
    {
     "name": "stdout",
     "output_type": "stream",
     "text": [
      "Isikan Umur Anda :17\n",
      "Kategori : Remaja\n"
     ]
    }
   ],
   "source": [
    "usia = int(input(\"Isikan Umur Anda :\"))\n",
    "\n",
    "if usia >=0:\n",
    "    if usia <= 12:\n",
    "        print(\"Kategori : Anak\")\n",
    "    elif usia <= 17:\n",
    "        print(\"Kategori : Remaja\")\n",
    "    elif usia <= 59:\n",
    "        print(\"Kategori : Dewasa\")\n",
    "    else:\n",
    "        print(\"Kategori : Lansia\")\n",
    "else:\n",
    "    print(\"Umur Tidak Valid\")"
   ]
  },
  {
   "cell_type": "markdown",
   "id": "08faf23e",
   "metadata": {},
   "source": [
    "<h4> 2 <h4/>"
   ]
  },
  {
   "cell_type": "code",
   "execution_count": 4,
   "id": "29fd5fa1",
   "metadata": {},
   "outputs": [
    {
     "name": "stdout",
     "output_type": "stream",
     "text": [
      "Isikan Umur Tiket 1:12\n",
      "Isikan Umur Tiket 2:18\n",
      "Isikan Umur Tiket 3:60\n",
      "Tiket 1 : 10000\n",
      "Tiket 2 : 25000\n",
      "Tiket 3 : Gratis\n"
     ]
    }
   ],
   "source": [
    "tiket1 = int(input(\"Isikan Umur Tiket 1:\"))\n",
    "tiket2 = int(input(\"Isikan Umur Tiket 2:\"))\n",
    "tiket3 = int(input(\"Isikan Umur Tiket 3:\"))\n",
    "\n",
    "totalBiaya = 0\n",
    "if tiket1 <13:\n",
    "    print(\"Tiket 1 : 10000\")\n",
    "    totalBiaya = totalBiaya + 10000\n",
    "elif tiket1 <18:\n",
    "    print(\"Tiket 1 : 15000\")\n",
    "    totalBiaya = totalBiaya + 15.000\n",
    "elif tiket1 <60:\n",
    "    print(\"Tiket 1 : 25000\")\n",
    "    totalBiaya = totalBiaya + 25000\n",
    "else:\n",
    "    print(\"Tiket 1 : Gratis\")\n",
    "#####################################################\n",
    "\n",
    "totalBiaya = 0\n",
    "if tiket2 <13:\n",
    "    print(\"Tiket 2 : 10000\")\n",
    "    totalBiaya = totalBiaya + 10000\n",
    "elif tiket2 <18:\n",
    "    print(\"Tiket 2 : 15000\")\n",
    "    totalBiaya = totalBiaya + 15.000\n",
    "elif tiket2 <60:\n",
    "    print(\"Tiket 2 : 25000\")\n",
    "    totalBiaya = totalBiaya + 25000\n",
    "else:\n",
    "    print(\"Tiket 2 : Gratis\")\n",
    "###################################################\n",
    "\n",
    "\n",
    "totalBiaya = 0\n",
    "if tiket3 <13:\n",
    "    print(\"Tiket 3 : 10000\")\n",
    "    totalBiaya = totalBiaya + 10000\n",
    "elif tiket3 <18:\n",
    "    print(\"Tiket 3 : 15000\")\n",
    "    totalBiaya = totalBiaya + 15.000\n",
    "elif tiket3 <60:\n",
    "    print(\"Tiket 3 : 25000\")\n",
    "    totalBiaya = totalBiaya + 25000\n",
    "else:\n",
    "    print(\"Tiket 3 : Gratis\")\n",
    "\n",
    "\n"
   ]
  },
  {
   "cell_type": "markdown",
   "id": "c7bcb0a6",
   "metadata": {},
   "source": [
    "<h4> 3 <h4/>"
   ]
  },
  {
   "cell_type": "code",
   "execution_count": 5,
   "id": "2d551427",
   "metadata": {},
   "outputs": [
    {
     "name": "stdout",
     "output_type": "stream",
     "text": [
      " Masukan Nilai Rapot99\n",
      "Isikan Penghasilan Ortu:4000000\n",
      "Mendapatkan beasiswa penuh\n"
     ]
    }
   ],
   "source": [
    "nilaiRapot = int(input(\" Masukan Nilai Rapot\"))\n",
    "penghasilanOrtu = int(input(\"Isikan Penghasilan Ortu:\"))\n",
    "\n",
    "if nilaiRapot >= 90 and penghasilanOrtu < 5000000:\n",
    "    print(\"Mendapatkan beasiswa penuh\")\n",
    "elif nilaiRapot >= 80 and penghasilan < 8000000:\n",
    "    print(\"Mendapatkan Beasiswa 50% \")\n",
    "else:\n",
    "    print(\"Tidak Mendapatkan Beasiswa\")\n",
    "    "
   ]
  },
  {
   "cell_type": "markdown",
   "id": "e050e659",
   "metadata": {},
   "source": [
    "<h4> 4 <h4/>"
   ]
  },
  {
   "cell_type": "code",
   "execution_count": 3,
   "id": "d7ea7021",
   "metadata": {},
   "outputs": [
    {
     "name": "stdout",
     "output_type": "stream",
     "text": [
      "isikan motor/mobil:mobil\n",
      "Jam Masuk:13\n",
      "Jam Keluar:12\n",
      "input jam Masuk/Jam Keluar Salah!\n",
      "Tarifmobil: 5000\n",
      "Lama Parkir: -1 jam\n",
      "Total Tarif Parkir: 35000\n"
     ]
    }
   ],
   "source": [
    "jenisKendaraan = input(\"isikan motor/mobil:\")\n",
    "jamMasuk = int(input(\"Jam Masuk:\"))\n",
    "jamKeluar = int(input(\"Jam Keluar:\"))\n",
    "\n",
    "tarifPerJam = 0\n",
    "if jenisKendaraan == \"motor\":\n",
    "    tarifPerJam = 2000\n",
    "elif jenisKendaraan == \"mobil\":\n",
    "    tarifPerJam = 5000\n",
    "else:\n",
    "    print(\"Tidak menerima selain motor atau mobil\")\n",
    "if jamMasuk >= jamKeluar :\n",
    "    print(\"input jam Masuk/Jam Keluar Salah!\")\n",
    "else:\n",
    "        totalTarif = (jamKeluar -jamMasuk)*tarifPerJam\n",
    "        \n",
    "print(f\"Tarif{jenisKendaraan}: {tarifPerJam}\")\n",
    "print(f\"Lama Parkir: {jamKeluar-jamMasuk} jam\")\n",
    "print(f\"Total Tarif Parkir: {totalTarif}\")\n",
    "    "
   ]
  },
  {
   "cell_type": "markdown",
   "id": "48fec7d8",
   "metadata": {},
   "source": [
    "<h4> 5 <h4/>"
   ]
  },
  {
   "cell_type": "code",
   "execution_count": 11,
   "id": "5f7aad04",
   "metadata": {},
   "outputs": [
    {
     "name": "stdout",
     "output_type": "stream",
     "text": [
      "Nomor Punggung :2\n",
      "kamu mempunyai pilihan posisi : Target Attacker,\n"
     ]
    }
   ],
   "source": [
    "nomorPunggung = int(input(\"Nomor Punggung :\"))\n",
    "posisi = \"\"\n",
    "if nomorPunggung % 2 == 0:\n",
    "    posisi += \"Target Attacker,\"\n",
    "    if nomorPunggung >=50 and nomerPunggung <=100:\n",
    "        posisi += \"Berhak dipilih menjadi Capten,\"\n",
    "else: \n",
    "    posisi +=\"Defender,\"\n",
    "    if nomorPunggung > 90:\n",
    "        posisi += \"Playmaker\"\n",
    "    if nomorPunggung % 3 == 0 and nomerPunggung % 5 ==0:\n",
    "        posisi += \"Keeper\"\n",
    "print(f\"kamu mempunyai pilihan posisi : {posisi}\")"
   ]
  },
  {
   "cell_type": "markdown",
   "id": "1f7510fa",
   "metadata": {},
   "source": [
    "<h3> TUGAS SESI 6 <h3/>"
   ]
  },
  {
   "cell_type": "code",
   "execution_count": 2,
   "id": "d6d63b67",
   "metadata": {},
   "outputs": [
    {
     "name": "stdout",
     "output_type": "stream",
     "text": [
      "Masukkan nilai coding (0-100): 66\n",
      "Masukkan nilai interview (A/B/C/dll): d\n",
      "Maaf Kamu Belum Berhasil Menjadi Calon Programmer\n"
     ]
    }
   ],
   "source": [
    "nilaiCoding = int(input(\"Masukkan nilai coding (0-100): \"))\n",
    "nilaiInterview = input(\"Masukkan nilai interview (A/B/C/dll): \").upper()\n",
    "\n",
    "if nilaiCoding > 80:\n",
    "    hasilCoding = \"LOLOS\"\n",
    "elif 60 <= nilaiCoding <= 80:\n",
    "    hasilCoding = \"DIPERTIMBANGKAN\"\n",
    "else:\n",
    "    hasilCoding = \"GAGAL\"\n",
    "\n",
    "if nilaiInterview == \"A\" or nilaiInterview == \"B\":\n",
    "    hasilInterview = \"LOLOS\"\n",
    "else:\n",
    "    hasilInterview = \"GAGAL\"\n",
    "\n",
    "if (hasilCoding == \"LOLOS\" or hasilCoding == \"DIPERTIMBANGKAN\") and hasilInterview == \"LOLOS\":\n",
    "    print(\"Selamat Kamu Berhasil Menjadi Calon Programmer\")\n",
    "else:\n",
    "    print(\"Maaf Kamu Belum Berhasil Menjadi Calon Programmer\")"
   ]
  },
  {
   "cell_type": "code",
   "execution_count": null,
   "id": "ebec5600",
   "metadata": {},
   "outputs": [],
   "source": []
  }
 ],
 "metadata": {
  "kernelspec": {
   "display_name": "Python 3 (ipykernel)",
   "language": "python",
   "name": "python3"
  },
  "language_info": {
   "codemirror_mode": {
    "name": "ipython",
    "version": 3
   },
   "file_extension": ".py",
   "mimetype": "text/x-python",
   "name": "python",
   "nbconvert_exporter": "python",
   "pygments_lexer": "ipython3",
   "version": "3.9.12"
  }
 },
 "nbformat": 4,
 "nbformat_minor": 5
}
